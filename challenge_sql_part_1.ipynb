{
    "metadata": {
        "kernelspec": {
            "name": "SQL",
            "display_name": "SQL",
            "language": "sql"
        },
        "language_info": {
            "name": "sql",
            "version": ""
        }
    },
    "nbformat_minor": 2,
    "nbformat": 4,
    "cells": [
        {
            "cell_type": "markdown",
            "source": [
                "## Using SQL Express Developer Edition on local laptop"
            ],
            "metadata": {
                "azdata_cell_guid": "b37dbb92-d913-4bab-a701-a08c585fa8fc"
            },
            "attachments": {}
        },
        {
            "cell_type": "markdown",
            "source": [
                "**Stage 1, import original selections**"
            ],
            "metadata": {
                "azdata_cell_guid": "6c74fa8f-0e25-454a-8b06-55debe59918b"
            },
            "attachments": {}
        },
        {
            "cell_type": "code",
            "source": [
                "IF OBJECT_ID ('TEMPDB..#ORIGINAL_SELECTION') IS NOT NULL DROP TABLE #ORIGINAL_SELECTION\r\n",
                "GO\r\n",
                "CREATE TABLE #ORIGINAL_SELECTION\r\n",
                "(\t\r\n",
                "\tCUSTOMER_ID int,\r\n",
                "\tLINK VARCHAR(250)\r\n",
                ");\r\n",
                "\r\n",
                "BULK INSERT #ORIGINAL_SELECTION\r\n",
                "FROM 'C:\\Users\\napl\\Downloads\\customer_ids_links.csv'\r\n",
                "WITH (\r\n",
                "\tDATAFILETYPE = 'char',\r\n",
                "\tFIRSTROW = 2,\r\n",
                "\tFIELDTERMINATOR = ',',\r\n",
                "\tROWTERMINATOR = '\\n' );\r\n",
                "\r\n",
                "SELECT TOP 10 * FROM #ORIGINAL_SELECTION"
            ],
            "metadata": {
                "azdata_cell_guid": "fc083a0c-4b5a-41d0-b6d9-55e777fec778",
                "language": "sql"
            },
            "outputs": [],
            "execution_count": null
        },
        {
            "cell_type": "markdown",
            "source": [
                "**We need the value from the LINK column where the key is RID and store it in the same table so we can compare.**"
            ],
            "metadata": {
                "azdata_cell_guid": "b0b5ca24-b18d-4439-8cf8-755aca450f95"
            },
            "attachments": {}
        },
        {
            "cell_type": "code",
            "source": [
                "ALTER TABLE #ORIGINAL_SELECTION ADD RID BIGINT;\r\n",
                "GO\r\n",
                "UPDATE #ORIGINAL_SELECTION SET RID = REPLACE(LINK, 'https://bb.survey.com/G1122NL/survey/my_survey?name=G1122NL&RID=','');\r\n",
                "GO\r\n",
                "SELECT TOP 10 * FROM #ORIGINAL_SELECTION"
            ],
            "metadata": {
                "azdata_cell_guid": "5825a8d4-0735-4ce4-b5de-e6ab80445cc7",
                "language": "sql",
                "tags": [
                    "hide_input"
                ]
            },
            "outputs": [],
            "execution_count": null
        },
        {
            "cell_type": "markdown",
            "source": [
                "**Import winners file**"
            ],
            "metadata": {
                "azdata_cell_guid": "c803508c-7a4d-4e9a-a7db-27d0e1d670aa"
            },
            "attachments": {}
        },
        {
            "cell_type": "code",
            "source": [
                "IF OBJECT_ID ('TEMPDB..#WINNERS') IS NOT NULL DROP TABLE #WINNERS\r\n",
                "CREATE TABLE #WINNERS (\r\n",
                "\t[ID]\tBIGINT\r\n",
                ");\r\n",
                "GO\r\n",
                "BULK INSERT #WINNERS\r\n",
                "FROM 'C:\\Users\\napl\\Downloads\\winners.csv'\r\n",
                "WITH (\r\n",
                "\tDATAFILETYPE = 'char',\r\n",
                "\tFIRSTROW = 2,\r\n",
                "\tFIELDTERMINATOR = ',',\r\n",
                "\tROWTERMINATOR = '\\n' );\r\n",
                "GO\r\n",
                "SELECT TOP 10 * FROM #WINNERS;"
            ],
            "metadata": {
                "azdata_cell_guid": "5ee04fa7-0932-44de-ba9c-ec4d7e1ce410",
                "language": "sql"
            },
            "outputs": [],
            "execution_count": null
        },
        {
            "cell_type": "markdown",
            "source": [
                "**Check winners ID in relation to the original selection, this selection reveals the winners from the selection**\n",
                "\n",
                "**Combine into an new temporary table, assign an identity column that we can use later..**"
            ],
            "metadata": {
                "azdata_cell_guid": "5aab5f31-4eb6-4b25-bac9-c776bec96ac9"
            },
            "attachments": {}
        },
        {
            "cell_type": "code",
            "source": [
                "IF OBJECT_ID ('TEMPDB..#EXPORT_WINNERS') IS NOT NULL DROP TABLE #EXPORT_WINNERS\r\n",
                "GO\r\n",
                "CREATE TABLE #EXPORT_WINNERS (\r\n",
                "    ID          INT IDENTITY(1,1) NOT NULL PRIMARY KEY,\r\n",
                "    CUSTOMER_ID INT,\r\n",
                "    CARDNUMBER  BIGINT NULL,\r\n",
                "    PIN VARCHAR(4)\r\n",
                ");\r\n",
                "GO\r\n",
                "INSERT INTO #EXPORT_WINNERS (CUSTOMER_ID)\r\n",
                "SELECT  S.CUSTOMER_ID\r\n",
                "FROM    #WINNERS W\r\n",
                "JOIN    #ORIGINAL_SELECTION S ON W.ID = S.RID;\r\n",
                "GO\r\n",
                "SELECT TOP 10 * FROM #EXPORT_WINNERS"
            ],
            "metadata": {
                "azdata_cell_guid": "391dd8e1-78e9-4dc6-9133-07b2779644bb",
                "language": "sql",
                "tags": []
            },
            "outputs": [],
            "execution_count": null
        },
        {
            "cell_type": "markdown",
            "source": [
                "**Import giftcard file**"
            ],
            "metadata": {
                "azdata_cell_guid": "a3fa4f9b-da0f-4047-a2ae-8a5f41b1787c"
            },
            "attachments": {}
        },
        {
            "cell_type": "code",
            "source": [
                "IF OBJECT_ID ('TEMPDB..#GIFTCARDS') IS NOT NULL DROP TABLE #GIFTCARDS\r\n",
                "CREATE TABLE #GIFTCARDS\r\n",
                "(\t\r\n",
                "\t\r\n",
                "\tCARDNUMBER  BIGINT,\r\n",
                "\tPIN         VARCHAR(20),\r\n",
                "\tVALUE       INT\r\n",
                ");\r\n",
                "GO\r\n",
                "BULK INSERT #GIFTCARDS\r\n",
                "FROM 'C:\\Users\\napl\\Downloads\\giftcards.csv'\r\n",
                "WITH (\r\n",
                "    DATAFILETYPE = 'char',\r\n",
                "    FIRSTROW = 2,\r\n",
                "    FIELDTERMINATOR = ',',\r\n",
                "    ROWTERMINATOR = '\\n' );\r\n",
                "GO\r\n",
                "SELECT TOP 10 * FROM #GIFTCARDS"
            ],
            "metadata": {
                "azdata_cell_guid": "aa9124d2-e083-4e5e-82a9-f7d6eb146985",
                "language": "sql"
            },
            "outputs": [],
            "execution_count": null
        },
        {
            "cell_type": "markdown",
            "source": [
                "**Add identity column to the giftcards table, from 1 tom 150.... with that we have an relational key with the export\\_winners table.**"
            ],
            "metadata": {
                "azdata_cell_guid": "a0a34863-4514-4984-9355-f94147f0eedb"
            },
            "attachments": {}
        },
        {
            "cell_type": "code",
            "source": [
                "ALTER TABLE #GIFTCARDS ADD ROWID INT IDENTITY(1,1) NOT NULL PRIMARY KEY;\r\n",
                "GO\r\n",
                "\r\n",
                "SELECT TOP 10 * FROM #GIFTCARDS"
            ],
            "metadata": {
                "azdata_cell_guid": "8638ba22-e52e-4167-8a5b-71423321c6ac",
                "language": "sql"
            },
            "outputs": [],
            "execution_count": null
        },
        {
            "cell_type": "markdown",
            "source": [
                "**Now we can join the winners and the giftcards to form 1 table, we update the corresponding values**\n",
                "\n",
                "**Then every customer has been assigned an unique cardnumber and pincode**"
            ],
            "metadata": {
                "azdata_cell_guid": "59b847d3-834f-4ec3-93cb-319ce26dd44a"
            },
            "attachments": {}
        },
        {
            "cell_type": "code",
            "source": [
                "SELECT *\r\n",
                "FROM    #EXPORT_WINNERS E\r\n",
                "JOIN    #GIFTCARDS G ON E.ID = G.ROWID\r\n",
                "\r\n",
                "GO"
            ],
            "metadata": {
                "azdata_cell_guid": "d2c83cba-42d3-4963-b187-4dc6038a00f5",
                "language": "sql"
            },
            "outputs": [],
            "execution_count": null
        },
        {
            "cell_type": "code",
            "source": [
                "-- MAKE IT FINAL\r\n",
                "UPDATE E \r\n",
                "    SET  CARDNUMBER = G.CARDNUMBER,\r\n",
                "        PIN = G.PIN\r\n",
                "FROM    #EXPORT_WINNERS E\r\n",
                "JOIN    #GIFTCARDS G ON E.ID = G.ROWID\r\n",
                "GO"
            ],
            "metadata": {
                "azdata_cell_guid": "66a8840e-d1d4-426c-b02a-a99853ca9213",
                "language": "sql"
            },
            "outputs": [],
            "execution_count": null
        },
        {
            "cell_type": "markdown",
            "source": [
                "**Get the final table**"
            ],
            "metadata": {
                "azdata_cell_guid": "e134d992-b96d-441f-8673-3aad6f016af9"
            },
            "attachments": {}
        },
        {
            "cell_type": "code",
            "source": [
                "SELECT CUSTOMER_ID, CARDNUMBER, PIN\r\n",
                "FROM #EXPORT_WINNERS"
            ],
            "metadata": {
                "azdata_cell_guid": "c4605fbc-c712-4fbe-8d9a-fadd97b5e636",
                "language": "sql"
            },
            "outputs": [],
            "execution_count": null
        }
    ]
}