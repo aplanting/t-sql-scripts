{
    "metadata": {
        "kernelspec": {
            "name": "SQL",
            "display_name": "SQL",
            "language": "sql"
        },
        "language_info": {
            "name": "sql",
            "version": ""
        }
    },
    "nbformat_minor": 2,
    "nbformat": 4,
    "cells": [
        {
            "cell_type": "markdown",
            "source": [
                "## Using SQL Express Developer Edition on local laptop"
            ],
            "metadata": {
                "azdata_cell_guid": "b37dbb92-d913-4bab-a701-a08c585fa8fc"
            },
            "attachments": {}
        },
        {
            "cell_type": "markdown",
            "source": [
                "**Stage 1, import original selections**"
            ],
            "metadata": {
                "azdata_cell_guid": "6c74fa8f-0e25-454a-8b06-55debe59918b"
            },
            "attachments": {}
        },
        {
            "cell_type": "code",
            "source": [
                "IF OBJECT_ID ('TEMPDB..#ORIGINAL_SELECTION') IS NOT NULL DROP TABLE #ORIGINAL_SELECTION\r\n",
                "GO\r\n",
                "CREATE TABLE #ORIGINAL_SELECTION\r\n",
                "(\t\r\n",
                "\tCUSTOMER_ID int,\r\n",
                "\tLINK VARCHAR(250)\r\n",
                ");\r\n",
                "\r\n",
                "BULK INSERT #ORIGINAL_SELECTION\r\n",
                "FROM 'C:\\Users\\napl\\Downloads\\customer_ids_links.csv'\r\n",
                "WITH (\r\n",
                "\tDATAFILETYPE = 'char',\r\n",
                "\tFIRSTROW = 2,\r\n",
                "\tFIELDTERMINATOR = ',',\r\n",
                "\tROWTERMINATOR = '\\n' );\r\n",
                "\r\n",
                "SELECT TOP 10 * FROM #ORIGINAL_SELECTION"
            ],
            "metadata": {
                "azdata_cell_guid": "fc083a0c-4b5a-41d0-b6d9-55e777fec778",
                "language": "sql"
            },
            "outputs": [],
            "execution_count": null
        },
        {
            "cell_type": "markdown",
            "source": [
                "**We need the value from the LINK column where the key is RID and store it in the same table so we can compare.**"
            ],
            "metadata": {
                "azdata_cell_guid": "b0b5ca24-b18d-4439-8cf8-755aca450f95"
            },
            "attachments": {}
        },
        {
            "cell_type": "code",
            "source": [
                "ALTER TABLE #ORIGINAL_SELECTION ADD RID BIGINT;\r\n",
                "GO\r\n",
                "UPDATE #ORIGINAL_SELECTION SET RID = REPLACE(LINK, 'https://bb.survey.com/G1122NL/survey/my_survey?name=G1122NL&RID=','');\r\n",
                "GO\r\n",
                "SELECT TOP 10 * FROM #ORIGINAL_SELECTION"
            ],
            "metadata": {
                "azdata_cell_guid": "5825a8d4-0735-4ce4-b5de-e6ab80445cc7",
                "language": "sql",
                "tags": [
                    "hide_input"
                ]
            },
            "outputs": [],
            "execution_count": null
        },
        {
            "cell_type": "markdown",
            "source": [
                "**Import winners file**"
            ],
            "metadata": {
                "azdata_cell_guid": "c803508c-7a4d-4e9a-a7db-27d0e1d670aa"
            },
            "attachments": {}
        },
        {
            "cell_type": "code",
            "source": [
                "IF OBJECT_ID ('TEMPDB..#WINNERS') IS NOT NULL DROP TABLE #WINNERS\r\n",
                "CREATE TABLE #WINNERS (\r\n",
                "\t[ID]\tBIGINT\r\n",
                ");\r\n",
                "GO\r\n",
                "BULK INSERT #WINNERS\r\n",
                "FROM 'C:\\Users\\napl\\Downloads\\winners.csv'\r\n",
                "WITH (\r\n",
                "\tDATAFILETYPE = 'char',\r\n",
                "\tFIRSTROW = 2,\r\n",
                "\tFIELDTERMINATOR = ',',\r\n",
                "\tROWTERMINATOR = '\\n' );\r\n",
                "GO\r\n",
                "SELECT TOP 10 * FROM #WINNERS;"
            ],
            "metadata": {
                "azdata_cell_guid": "5ee04fa7-0932-44de-ba9c-ec4d7e1ce410",
                "language": "sql"
            },
            "outputs": [],
            "execution_count": null
        },
        {
            "cell_type": "markdown",
            "source": [
                "**Check winners ID in relation to the original selection, this selection reveals the winners from the selection**\n",
                "\n",
                "**Combine into an new temporary table, assign an identity column that we can use later..**"
            ],
            "metadata": {
                "azdata_cell_guid": "5aab5f31-4eb6-4b25-bac9-c776bec96ac9"
            },
            "attachments": {}
        },
        {
            "cell_type": "code",
            "source": [
                "IF OBJECT_ID ('TEMPDB..#EXPORT_WINNERS') IS NOT NULL DROP TABLE #EXPORT_WINNERS\r\n",
                "GO\r\n",
                "CREATE TABLE #EXPORT_WINNERS (\r\n",
                "    ID          INT IDENTITY(1,1) NOT NULL PRIMARY KEY,\r\n",
                "    CUSTOMER_ID INT,\r\n",
                "    CARDNUMBER  BIGINT NULL,\r\n",
                "    PIN VARCHAR(4)\r\n",
                ");\r\n",
                "GO\r\n",
                "INSERT INTO #EXPORT_WINNERS (CUSTOMER_ID)\r\n",
                "SELECT  S.CUSTOMER_ID\r\n",
                "FROM    #WINNERS W\r\n",
                "JOIN    #ORIGINAL_SELECTION S ON W.ID = S.RID;\r\n",
                "GO\r\n",
                "SELECT TOP 10 * FROM #EXPORT_WINNERS"
            ],
            "metadata": {
                "azdata_cell_guid": "391dd8e1-78e9-4dc6-9133-07b2779644bb",
                "language": "sql",
                "tags": []
            },
            "outputs": [
                {
                    "output_type": "display_data",
                    "data": {
                        "text/html": "Commands completed successfully."
                    },
                    "metadata": {}
                },
                {
                    "output_type": "display_data",
                    "data": {
                        "text/html": "Commands completed successfully."
                    },
                    "metadata": {}
                },
                {
                    "output_type": "display_data",
                    "data": {
                        "text/html": "(150 rows affected)"
                    },
                    "metadata": {}
                },
                {
                    "output_type": "display_data",
                    "data": {
                        "text/html": "(10 rows affected)"
                    },
                    "metadata": {}
                },
                {
                    "output_type": "display_data",
                    "data": {
                        "text/html": "Total execution time: 00:00:00.036"
                    },
                    "metadata": {}
                },
                {
                    "output_type": "execute_result",
                    "metadata": {},
                    "execution_count": 8,
                    "data": {
                        "application/vnd.dataresource+json": {
                            "schema": {
                                "fields": [
                                    {
                                        "name": "ID"
                                    },
                                    {
                                        "name": "CUSTOMER_ID"
                                    },
                                    {
                                        "name": "CARDNUMBER"
                                    },
                                    {
                                        "name": "PIN"
                                    }
                                ]
                            },
                            "data": [
                                {
                                    "0": "1",
                                    "1": "4214941",
                                    "2": "NULL",
                                    "3": "NULL"
                                },
                                {
                                    "0": "2",
                                    "1": "4276878",
                                    "2": "NULL",
                                    "3": "NULL"
                                },
                                {
                                    "0": "3",
                                    "1": "4170876",
                                    "2": "NULL",
                                    "3": "NULL"
                                },
                                {
                                    "0": "4",
                                    "1": "4207486",
                                    "2": "NULL",
                                    "3": "NULL"
                                },
                                {
                                    "0": "5",
                                    "1": "4194813",
                                    "2": "NULL",
                                    "3": "NULL"
                                },
                                {
                                    "0": "6",
                                    "1": "4033599",
                                    "2": "NULL",
                                    "3": "NULL"
                                },
                                {
                                    "0": "7",
                                    "1": "3938711",
                                    "2": "NULL",
                                    "3": "NULL"
                                },
                                {
                                    "0": "8",
                                    "1": "4252354",
                                    "2": "NULL",
                                    "3": "NULL"
                                },
                                {
                                    "0": "9",
                                    "1": "4017893",
                                    "2": "NULL",
                                    "3": "NULL"
                                },
                                {
                                    "0": "10",
                                    "1": "4121731",
                                    "2": "NULL",
                                    "3": "NULL"
                                }
                            ]
                        },
                        "text/html": [
                            "<table>",
                            "<tr><th>ID</th><th>CUSTOMER_ID</th><th>CARDNUMBER</th><th>PIN</th></tr>",
                            "<tr><td>1</td><td>4214941</td><td>NULL</td><td>NULL</td></tr>",
                            "<tr><td>2</td><td>4276878</td><td>NULL</td><td>NULL</td></tr>",
                            "<tr><td>3</td><td>4170876</td><td>NULL</td><td>NULL</td></tr>",
                            "<tr><td>4</td><td>4207486</td><td>NULL</td><td>NULL</td></tr>",
                            "<tr><td>5</td><td>4194813</td><td>NULL</td><td>NULL</td></tr>",
                            "<tr><td>6</td><td>4033599</td><td>NULL</td><td>NULL</td></tr>",
                            "<tr><td>7</td><td>3938711</td><td>NULL</td><td>NULL</td></tr>",
                            "<tr><td>8</td><td>4252354</td><td>NULL</td><td>NULL</td></tr>",
                            "<tr><td>9</td><td>4017893</td><td>NULL</td><td>NULL</td></tr>",
                            "<tr><td>10</td><td>4121731</td><td>NULL</td><td>NULL</td></tr>",
                            "</table>"
                        ]
                    }
                }
            ],
            "execution_count": 8
        },
        {
            "cell_type": "markdown",
            "source": [
                "**Import giftcard file**"
            ],
            "metadata": {
                "azdata_cell_guid": "a3fa4f9b-da0f-4047-a2ae-8a5f41b1787c"
            },
            "attachments": {}
        },
        {
            "cell_type": "code",
            "source": [
                "IF OBJECT_ID ('TEMPDB..#GIFTCARDS') IS NOT NULL DROP TABLE #GIFTCARDS\r\n",
                "CREATE TABLE #GIFTCARDS\r\n",
                "(\t\r\n",
                "\t\r\n",
                "\tCARDNUMBER  BIGINT,\r\n",
                "\tPIN         VARCHAR(20),\r\n",
                "\tVALUE       INT\r\n",
                ");\r\n",
                "GO\r\n",
                "BULK INSERT #GIFTCARDS\r\n",
                "FROM 'C:\\Users\\napl\\Downloads\\giftcards.csv'\r\n",
                "WITH (\r\n",
                "    DATAFILETYPE = 'char',\r\n",
                "    FIRSTROW = 2,\r\n",
                "    FIELDTERMINATOR = ',',\r\n",
                "    ROWTERMINATOR = '\\n' );\r\n",
                "GO\r\n",
                "SELECT TOP 10 * FROM #GIFTCARDS"
            ],
            "metadata": {
                "azdata_cell_guid": "aa9124d2-e083-4e5e-82a9-f7d6eb146985",
                "language": "sql"
            },
            "outputs": [],
            "execution_count": null
        },
        {
            "cell_type": "markdown",
            "source": [
                "**Add identity column to the giftcards table, from 1 tom 150.... with that we have an relational key with the export\\_winners table.**"
            ],
            "metadata": {
                "azdata_cell_guid": "a0a34863-4514-4984-9355-f94147f0eedb"
            },
            "attachments": {}
        },
        {
            "cell_type": "code",
            "source": [
                "ALTER TABLE #GIFTCARDS ADD ROWID INT IDENTITY(1,1) NOT NULL PRIMARY KEY;\r\n",
                "GO\r\n",
                "\r\n",
                "SELECT TOP 10 * FROM #GIFTCARDS"
            ],
            "metadata": {
                "azdata_cell_guid": "8638ba22-e52e-4167-8a5b-71423321c6ac",
                "language": "sql"
            },
            "outputs": [
                {
                    "output_type": "display_data",
                    "data": {
                        "text/html": "Commands completed successfully."
                    },
                    "metadata": {}
                },
                {
                    "output_type": "display_data",
                    "data": {
                        "text/html": "(10 rows affected)"
                    },
                    "metadata": {}
                },
                {
                    "output_type": "display_data",
                    "data": {
                        "text/html": "Total execution time: 00:00:00.049"
                    },
                    "metadata": {}
                },
                {
                    "output_type": "execute_result",
                    "metadata": {},
                    "execution_count": 9,
                    "data": {
                        "application/vnd.dataresource+json": {
                            "schema": {
                                "fields": [
                                    {
                                        "name": "CARDNUMBER"
                                    },
                                    {
                                        "name": "PIN"
                                    },
                                    {
                                        "name": "VALUE"
                                    },
                                    {
                                        "name": "ROWID"
                                    }
                                ]
                            },
                            "data": [
                                {
                                    "0": "174943770439",
                                    "1": "9777",
                                    "2": "5",
                                    "3": "1"
                                },
                                {
                                    "0": "197827564076",
                                    "1": "6563",
                                    "2": "5",
                                    "3": "2"
                                },
                                {
                                    "0": "209293460449",
                                    "1": "4580",
                                    "2": "5",
                                    "3": "3"
                                },
                                {
                                    "0": "188081367736",
                                    "1": "6594",
                                    "2": "5",
                                    "3": "4"
                                },
                                {
                                    "0": "191237122026",
                                    "1": "2238",
                                    "2": "5",
                                    "3": "5"
                                },
                                {
                                    "0": "125154336924",
                                    "1": "4602",
                                    "2": "5",
                                    "3": "6"
                                },
                                {
                                    "0": "168101825465",
                                    "1": "5861",
                                    "2": "5",
                                    "3": "7"
                                },
                                {
                                    "0": "237409550065",
                                    "1": "7893",
                                    "2": "5",
                                    "3": "8"
                                },
                                {
                                    "0": "179823004372",
                                    "1": "2868",
                                    "2": "5",
                                    "3": "9"
                                },
                                {
                                    "0": "157866566156",
                                    "1": "7702",
                                    "2": "5",
                                    "3": "10"
                                }
                            ]
                        },
                        "text/html": [
                            "<table>",
                            "<tr><th>CARDNUMBER</th><th>PIN</th><th>VALUE</th><th>ROWID</th></tr>",
                            "<tr><td>174943770439</td><td>9777</td><td>5</td><td>1</td></tr>",
                            "<tr><td>197827564076</td><td>6563</td><td>5</td><td>2</td></tr>",
                            "<tr><td>209293460449</td><td>4580</td><td>5</td><td>3</td></tr>",
                            "<tr><td>188081367736</td><td>6594</td><td>5</td><td>4</td></tr>",
                            "<tr><td>191237122026</td><td>2238</td><td>5</td><td>5</td></tr>",
                            "<tr><td>125154336924</td><td>4602</td><td>5</td><td>6</td></tr>",
                            "<tr><td>168101825465</td><td>5861</td><td>5</td><td>7</td></tr>",
                            "<tr><td>237409550065</td><td>7893</td><td>5</td><td>8</td></tr>",
                            "<tr><td>179823004372</td><td>2868</td><td>5</td><td>9</td></tr>",
                            "<tr><td>157866566156</td><td>7702</td><td>5</td><td>10</td></tr>",
                            "</table>"
                        ]
                    }
                }
            ],
            "execution_count": 9
        },
        {
            "cell_type": "markdown",
            "source": [
                "**Now we can join the winners and the giftcards to form 1 table, we update the corresponding values**\n",
                "\n",
                "**Then every customer has been assigned an unique cardnumber and pincode**"
            ],
            "metadata": {
                "azdata_cell_guid": "59b847d3-834f-4ec3-93cb-319ce26dd44a"
            },
            "attachments": {}
        },
        {
            "cell_type": "code",
            "source": [
                "SELECT *\r\n",
                "FROM    #EXPORT_WINNERS E\r\n",
                "JOIN    #GIFTCARDS G ON E.ID = G.ROWID\r\n",
                "\r\n",
                "GO"
            ],
            "metadata": {
                "azdata_cell_guid": "d2c83cba-42d3-4963-b187-4dc6038a00f5",
                "language": "sql"
            },
            "outputs": [
                {
                    "output_type": "display_data",
                    "data": {
                        "text/html": "(150 rows affected)"
                    },
                    "metadata": {}
                },
                {
                    "output_type": "display_data",
                    "data": {
                        "text/html": "Total execution time: 00:00:00.021"
                    },
                    "metadata": {}
                },
                {
                    "output_type": "execute_result",
                    "metadata": {},
                    "execution_count": 10,
                    "data": {
                        "application/vnd.dataresource+json": {
                            "schema": {
                                "fields": [
                                    {
                                        "name": "ID"
                                    },
                                    {
                                        "name": "CUSTOMER_ID"
                                    },
                                    {
                                        "name": "CARDNUMBER"
                                    },
                                    {
                                        "name": "PIN"
                                    },
                                    {
                                        "name": "CARDNUMBER"
                                    },
                                    {
                                        "name": "PIN"
                                    },
                                    {
                                        "name": "VALUE"
                                    },
                                    {
                                        "name": "ROWID"
                                    }
                                ]
                            },
                            "data": [
                                {
                                    "0": "1",
                                    "1": "4214941",
                                    "2": "NULL",
                                    "3": "NULL",
                                    "4": "174943770439",
                                    "5": "9777",
                                    "6": "5",
                                    "7": "1"
                                },
                                {
                                    "0": "2",
                                    "1": "4276878",
                                    "2": "NULL",
                                    "3": "NULL",
                                    "4": "197827564076",
                                    "5": "6563",
                                    "6": "5",
                                    "7": "2"
                                },
                                {
                                    "0": "3",
                                    "1": "4170876",
                                    "2": "NULL",
                                    "3": "NULL",
                                    "4": "209293460449",
                                    "5": "4580",
                                    "6": "5",
                                    "7": "3"
                                },
                                {
                                    "0": "4",
                                    "1": "4207486",
                                    "2": "NULL",
                                    "3": "NULL",
                                    "4": "188081367736",
                                    "5": "6594",
                                    "6": "5",
                                    "7": "4"
                                },
                                {
                                    "0": "5",
                                    "1": "4194813",
                                    "2": "NULL",
                                    "3": "NULL",
                                    "4": "191237122026",
                                    "5": "2238",
                                    "6": "5",
                                    "7": "5"
                                },
                                {
                                    "0": "6",
                                    "1": "4033599",
                                    "2": "NULL",
                                    "3": "NULL",
                                    "4": "125154336924",
                                    "5": "4602",
                                    "6": "5",
                                    "7": "6"
                                },
                                {
                                    "0": "7",
                                    "1": "3938711",
                                    "2": "NULL",
                                    "3": "NULL",
                                    "4": "168101825465",
                                    "5": "5861",
                                    "6": "5",
                                    "7": "7"
                                },
                                {
                                    "0": "8",
                                    "1": "4252354",
                                    "2": "NULL",
                                    "3": "NULL",
                                    "4": "237409550065",
                                    "5": "7893",
                                    "6": "5",
                                    "7": "8"
                                },
                                {
                                    "0": "9",
                                    "1": "4017893",
                                    "2": "NULL",
                                    "3": "NULL",
                                    "4": "179823004372",
                                    "5": "2868",
                                    "6": "5",
                                    "7": "9"
                                },
                                {
                                    "0": "10",
                                    "1": "4121731",
                                    "2": "NULL",
                                    "3": "NULL",
                                    "4": "157866566156",
                                    "5": "7702",
                                    "6": "5",
                                    "7": "10"
                                },
                                {
                                    "0": "11",
                                    "1": "4220255",
                                    "2": "NULL",
                                    "3": "NULL",
                                    "4": "145881301554",
                                    "5": "1449",
                                    "6": "5",
                                    "7": "11"
                                },
                                {
                                    "0": "12",
                                    "1": "4214007",
                                    "2": "NULL",
                                    "3": "NULL",
                                    "4": "169585042248",
                                    "5": "2194",
                                    "6": "5",
                                    "7": "12"
                                },
                                {
                                    "0": "13",
                                    "1": "4184229",
                                    "2": "NULL",
                                    "3": "NULL",
                                    "4": "106365139071",
                                    "5": "4294",
                                    "6": "5",
                                    "7": "13"
                                },
                                {
                                    "0": "14",
                                    "1": "4101518",
                                    "2": "NULL",
                                    "3": "NULL",
                                    "4": "164477933000",
                                    "5": "4220",
                                    "6": "5",
                                    "7": "14"
                                },
                                {
                                    "0": "15",
                                    "1": "3697744",
                                    "2": "NULL",
                                    "3": "NULL",
                                    "4": "247699045039",
                                    "5": "5655",
                                    "6": "5",
                                    "7": "15"
                                },
                                {
                                    "0": "16",
                                    "1": "4283002",
                                    "2": "NULL",
                                    "3": "NULL",
                                    "4": "226314154428",
                                    "5": "4971",
                                    "6": "5",
                                    "7": "16"
                                },
                                {
                                    "0": "17",
                                    "1": "4216371",
                                    "2": "NULL",
                                    "3": "NULL",
                                    "4": "193622256341",
                                    "5": "2569",
                                    "6": "5",
                                    "7": "17"
                                },
                                {
                                    "0": "18",
                                    "1": "4260321",
                                    "2": "NULL",
                                    "3": "NULL",
                                    "4": "229730303234",
                                    "5": "2481",
                                    "6": "5",
                                    "7": "18"
                                },
                                {
                                    "0": "19",
                                    "1": "4217563",
                                    "2": "NULL",
                                    "3": "NULL",
                                    "4": "201182376068",
                                    "5": "7497",
                                    "6": "5",
                                    "7": "19"
                                },
                                {
                                    "0": "20",
                                    "1": "4260233",
                                    "2": "NULL",
                                    "3": "NULL",
                                    "4": "240264574863",
                                    "5": "9301",
                                    "6": "5",
                                    "7": "20"
                                },
                                {
                                    "0": "21",
                                    "1": "2425145",
                                    "2": "NULL",
                                    "3": "NULL",
                                    "4": "247991954774",
                                    "5": "6821",
                                    "6": "5",
                                    "7": "21"
                                },
                                {
                                    "0": "22",
                                    "1": "4222947",
                                    "2": "NULL",
                                    "3": "NULL",
                                    "4": "164612419452",
                                    "5": "6810",
                                    "6": "5",
                                    "7": "22"
                                },
                                {
                                    "0": "23",
                                    "1": "4019758",
                                    "2": "NULL",
                                    "3": "NULL",
                                    "4": "147478570756",
                                    "5": "2491",
                                    "6": "5",
                                    "7": "23"
                                },
                                {
                                    "0": "24",
                                    "1": "4177668",
                                    "2": "NULL",
                                    "3": "NULL",
                                    "4": "146533589239",
                                    "5": "1049",
                                    "6": "5",
                                    "7": "24"
                                },
                                {
                                    "0": "25",
                                    "1": "4249421",
                                    "2": "NULL",
                                    "3": "NULL",
                                    "4": "209079603658",
                                    "5": "2124",
                                    "6": "5",
                                    "7": "25"
                                },
                                {
                                    "0": "26",
                                    "1": "4011025",
                                    "2": "NULL",
                                    "3": "NULL",
                                    "4": "113159572622",
                                    "5": "9625",
                                    "6": "5",
                                    "7": "26"
                                },
                                {
                                    "0": "27",
                                    "1": "4243428",
                                    "2": "NULL",
                                    "3": "NULL",
                                    "4": "190044250116",
                                    "5": "6473",
                                    "6": "5",
                                    "7": "27"
                                },
                                {
                                    "0": "28",
                                    "1": "4253550",
                                    "2": "NULL",
                                    "3": "NULL",
                                    "4": "203300689253",
                                    "5": "4982",
                                    "6": "5",
                                    "7": "28"
                                },
                                {
                                    "0": "29",
                                    "1": "4028061",
                                    "2": "NULL",
                                    "3": "NULL",
                                    "4": "115275670399",
                                    "5": "9573",
                                    "6": "5",
                                    "7": "29"
                                },
                                {
                                    "0": "30",
                                    "1": "4184756",
                                    "2": "NULL",
                                    "3": "NULL",
                                    "4": "103240375611",
                                    "5": "2793",
                                    "6": "5",
                                    "7": "30"
                                },
                                {
                                    "0": "31",
                                    "1": "4270590",
                                    "2": "NULL",
                                    "3": "NULL",
                                    "4": "220252293925",
                                    "5": "4119",
                                    "6": "5",
                                    "7": "31"
                                },
                                {
                                    "0": "32",
                                    "1": "4215111",
                                    "2": "NULL",
                                    "3": "NULL",
                                    "4": "192507257273",
                                    "5": "5462",
                                    "6": "5",
                                    "7": "32"
                                },
                                {
                                    "0": "33",
                                    "1": "4224708",
                                    "2": "NULL",
                                    "3": "NULL",
                                    "4": "171599420528",
                                    "5": "9341",
                                    "6": "5",
                                    "7": "33"
                                },
                                {
                                    "0": "34",
                                    "1": "3014806",
                                    "2": "NULL",
                                    "3": "NULL",
                                    "4": "109856036155",
                                    "5": "7595",
                                    "6": "5",
                                    "7": "34"
                                },
                                {
                                    "0": "35",
                                    "1": "4254417",
                                    "2": "NULL",
                                    "3": "NULL",
                                    "4": "227497716767",
                                    "5": "3006",
                                    "6": "5",
                                    "7": "35"
                                },
                                {
                                    "0": "36",
                                    "1": "4283255",
                                    "2": "NULL",
                                    "3": "NULL",
                                    "4": "158222508015",
                                    "5": "9526",
                                    "6": "5",
                                    "7": "36"
                                },
                                {
                                    "0": "37",
                                    "1": "4254781",
                                    "2": "NULL",
                                    "3": "NULL",
                                    "4": "186238036583",
                                    "5": "4047",
                                    "6": "5",
                                    "7": "37"
                                },
                                {
                                    "0": "38",
                                    "1": "4286785",
                                    "2": "NULL",
                                    "3": "NULL",
                                    "4": "247724219317",
                                    "5": "6017",
                                    "6": "5",
                                    "7": "38"
                                },
                                {
                                    "0": "39",
                                    "1": "3454310",
                                    "2": "NULL",
                                    "3": "NULL",
                                    "4": "247312211117",
                                    "5": "9589",
                                    "6": "5",
                                    "7": "39"
                                },
                                {
                                    "0": "40",
                                    "1": "4272644",
                                    "2": "NULL",
                                    "3": "NULL",
                                    "4": "136231581620",
                                    "5": "9472",
                                    "6": "5",
                                    "7": "40"
                                },
                                {
                                    "0": "41",
                                    "1": "4196944",
                                    "2": "NULL",
                                    "3": "NULL",
                                    "4": "107234638754",
                                    "5": "7687",
                                    "6": "5",
                                    "7": "41"
                                },
                                {
                                    "0": "42",
                                    "1": "4169990",
                                    "2": "NULL",
                                    "3": "NULL",
                                    "4": "216975937247",
                                    "5": "1402",
                                    "6": "5",
                                    "7": "42"
                                },
                                {
                                    "0": "43",
                                    "1": "4209869",
                                    "2": "NULL",
                                    "3": "NULL",
                                    "4": "194878242935",
                                    "5": "5410",
                                    "6": "5",
                                    "7": "43"
                                },
                                {
                                    "0": "44",
                                    "1": "4242201",
                                    "2": "NULL",
                                    "3": "NULL",
                                    "4": "192057713162",
                                    "5": "9209",
                                    "6": "5",
                                    "7": "44"
                                },
                                {
                                    "0": "45",
                                    "1": "4220519",
                                    "2": "NULL",
                                    "3": "NULL",
                                    "4": "204554724610",
                                    "5": "9109",
                                    "6": "5",
                                    "7": "45"
                                },
                                {
                                    "0": "46",
                                    "1": "4216374",
                                    "2": "NULL",
                                    "3": "NULL",
                                    "4": "196058990701",
                                    "5": "2787",
                                    "6": "5",
                                    "7": "46"
                                },
                                {
                                    "0": "47",
                                    "1": "4247588",
                                    "2": "NULL",
                                    "3": "NULL",
                                    "4": "163421689468",
                                    "5": "9653",
                                    "6": "5",
                                    "7": "47"
                                },
                                {
                                    "0": "48",
                                    "1": "4202536",
                                    "2": "NULL",
                                    "3": "NULL",
                                    "4": "140934980053",
                                    "5": "7498",
                                    "6": "5",
                                    "7": "48"
                                },
                                {
                                    "0": "49",
                                    "1": "4239553",
                                    "2": "NULL",
                                    "3": "NULL",
                                    "4": "120170500190",
                                    "5": "6535",
                                    "6": "5",
                                    "7": "49"
                                },
                                {
                                    "0": "50",
                                    "1": "4174193",
                                    "2": "NULL",
                                    "3": "NULL",
                                    "4": "125277511160",
                                    "5": "8911",
                                    "6": "5",
                                    "7": "50"
                                },
                                {
                                    "0": "51",
                                    "1": "4248882",
                                    "2": "NULL",
                                    "3": "NULL",
                                    "4": "196382363207",
                                    "5": "2297",
                                    "6": "5",
                                    "7": "51"
                                },
                                {
                                    "0": "52",
                                    "1": "4024896",
                                    "2": "NULL",
                                    "3": "NULL",
                                    "4": "214600463425",
                                    "5": "8046",
                                    "6": "5",
                                    "7": "52"
                                },
                                {
                                    "0": "53",
                                    "1": "4209424",
                                    "2": "NULL",
                                    "3": "NULL",
                                    "4": "180678656591",
                                    "5": "1166",
                                    "6": "5",
                                    "7": "53"
                                },
                                {
                                    "0": "54",
                                    "1": "4283508",
                                    "2": "NULL",
                                    "3": "NULL",
                                    "4": "204173475200",
                                    "5": "9196",
                                    "6": "5",
                                    "7": "54"
                                },
                                {
                                    "0": "55",
                                    "1": "3919313",
                                    "2": "NULL",
                                    "3": "NULL",
                                    "4": "115152048220",
                                    "5": "2965",
                                    "6": "5",
                                    "7": "55"
                                },
                                {
                                    "0": "56",
                                    "1": "4260356",
                                    "2": "NULL",
                                    "3": "NULL",
                                    "4": "103292539828",
                                    "5": "3597",
                                    "6": "5",
                                    "7": "56"
                                },
                                {
                                    "0": "57",
                                    "1": "4214200",
                                    "2": "NULL",
                                    "3": "NULL",
                                    "4": "235545858431",
                                    "5": "7084",
                                    "6": "5",
                                    "7": "57"
                                },
                                {
                                    "0": "58",
                                    "1": "4262346",
                                    "2": "NULL",
                                    "3": "NULL",
                                    "4": "217024229514",
                                    "5": "5912",
                                    "6": "5",
                                    "7": "58"
                                },
                                {
                                    "0": "59",
                                    "1": "4059170",
                                    "2": "NULL",
                                    "3": "NULL",
                                    "4": "158649956799",
                                    "5": "7513",
                                    "6": "5",
                                    "7": "59"
                                },
                                {
                                    "0": "60",
                                    "1": "4051148",
                                    "2": "NULL",
                                    "3": "NULL",
                                    "4": "152574068414",
                                    "5": "8589",
                                    "6": "5",
                                    "7": "60"
                                },
                                {
                                    "0": "61",
                                    "1": "4198578",
                                    "2": "NULL",
                                    "3": "NULL",
                                    "4": "196296312281",
                                    "5": "4370",
                                    "6": "5",
                                    "7": "61"
                                },
                                {
                                    "0": "62",
                                    "1": "4070770",
                                    "2": "NULL",
                                    "3": "NULL",
                                    "4": "133731201791",
                                    "5": "7922",
                                    "6": "5",
                                    "7": "62"
                                },
                                {
                                    "0": "63",
                                    "1": "3970123",
                                    "2": "NULL",
                                    "3": "NULL",
                                    "4": "204910242344",
                                    "5": "6149",
                                    "6": "5",
                                    "7": "63"
                                },
                                {
                                    "0": "64",
                                    "1": "4208679",
                                    "2": "NULL",
                                    "3": "NULL",
                                    "4": "107052591844",
                                    "5": "4461",
                                    "6": "5",
                                    "7": "64"
                                },
                                {
                                    "0": "65",
                                    "1": "4265362",
                                    "2": "NULL",
                                    "3": "NULL",
                                    "4": "198823573643",
                                    "5": "5773",
                                    "6": "5",
                                    "7": "65"
                                },
                                {
                                    "0": "66",
                                    "1": "4178970",
                                    "2": "NULL",
                                    "3": "NULL",
                                    "4": "244533525832",
                                    "5": "6994",
                                    "6": "5",
                                    "7": "66"
                                },
                                {
                                    "0": "67",
                                    "1": "4250052",
                                    "2": "NULL",
                                    "3": "NULL",
                                    "4": "224789977379",
                                    "5": "3703",
                                    "6": "5",
                                    "7": "67"
                                },
                                {
                                    "0": "68",
                                    "1": "4269267",
                                    "2": "NULL",
                                    "3": "NULL",
                                    "4": "205263726139",
                                    "5": "6120",
                                    "6": "5",
                                    "7": "68"
                                },
                                {
                                    "0": "69",
                                    "1": "4260650",
                                    "2": "NULL",
                                    "3": "NULL",
                                    "4": "216433098431",
                                    "5": "8526",
                                    "6": "5",
                                    "7": "69"
                                },
                                {
                                    "0": "70",
                                    "1": "3853128",
                                    "2": "NULL",
                                    "3": "NULL",
                                    "4": "228550083877",
                                    "5": "6488",
                                    "6": "5",
                                    "7": "70"
                                },
                                {
                                    "0": "71",
                                    "1": "4186348",
                                    "2": "NULL",
                                    "3": "NULL",
                                    "4": "193902813316",
                                    "5": "9798",
                                    "6": "5",
                                    "7": "71"
                                },
                                {
                                    "0": "72",
                                    "1": "4204398",
                                    "2": "NULL",
                                    "3": "NULL",
                                    "4": "152987868945",
                                    "5": "7618",
                                    "6": "5",
                                    "7": "72"
                                },
                                {
                                    "0": "73",
                                    "1": "4233756",
                                    "2": "NULL",
                                    "3": "NULL",
                                    "4": "176081272123",
                                    "5": "7412",
                                    "6": "5",
                                    "7": "73"
                                },
                                {
                                    "0": "74",
                                    "1": "4215705",
                                    "2": "NULL",
                                    "3": "NULL",
                                    "4": "246371255218",
                                    "5": "8149",
                                    "6": "5",
                                    "7": "74"
                                },
                                {
                                    "0": "75",
                                    "1": "4193304",
                                    "2": "NULL",
                                    "3": "NULL",
                                    "4": "227106996714",
                                    "5": "5522",
                                    "6": "5",
                                    "7": "75"
                                },
                                {
                                    "0": "76",
                                    "1": "4167726",
                                    "2": "NULL",
                                    "3": "NULL",
                                    "4": "122002979292",
                                    "5": "3932",
                                    "6": "5",
                                    "7": "76"
                                },
                                {
                                    "0": "77",
                                    "1": "4254115",
                                    "2": "NULL",
                                    "3": "NULL",
                                    "4": "201180436356",
                                    "5": "5757",
                                    "6": "5",
                                    "7": "77"
                                },
                                {
                                    "0": "78",
                                    "1": "4188282",
                                    "2": "NULL",
                                    "3": "NULL",
                                    "4": "201905626904",
                                    "5": "3358",
                                    "6": "5",
                                    "7": "78"
                                },
                                {
                                    "0": "79",
                                    "1": "4240655",
                                    "2": "NULL",
                                    "3": "NULL",
                                    "4": "162154926610",
                                    "5": "9165",
                                    "6": "5",
                                    "7": "79"
                                },
                                {
                                    "0": "80",
                                    "1": "3926398",
                                    "2": "NULL",
                                    "3": "NULL",
                                    "4": "114637455300",
                                    "5": "3082",
                                    "6": "5",
                                    "7": "80"
                                },
                                {
                                    "0": "81",
                                    "1": "4186715",
                                    "2": "NULL",
                                    "3": "NULL",
                                    "4": "180074881058",
                                    "5": "3972",
                                    "6": "5",
                                    "7": "81"
                                },
                                {
                                    "0": "82",
                                    "1": "4237953",
                                    "2": "NULL",
                                    "3": "NULL",
                                    "4": "217195588937",
                                    "5": "1369",
                                    "6": "5",
                                    "7": "82"
                                },
                                {
                                    "0": "83",
                                    "1": "4175941",
                                    "2": "NULL",
                                    "3": "NULL",
                                    "4": "155902594827",
                                    "5": "3530",
                                    "6": "5",
                                    "7": "83"
                                },
                                {
                                    "0": "84",
                                    "1": "4252507",
                                    "2": "NULL",
                                    "3": "NULL",
                                    "4": "166139534358",
                                    "5": "5240",
                                    "6": "5",
                                    "7": "84"
                                },
                                {
                                    "0": "85",
                                    "1": "4185912",
                                    "2": "NULL",
                                    "3": "NULL",
                                    "4": "111983916303",
                                    "5": "6209",
                                    "6": "5",
                                    "7": "85"
                                },
                                {
                                    "0": "86",
                                    "1": "4242908",
                                    "2": "NULL",
                                    "3": "NULL",
                                    "4": "189626180682",
                                    "5": "6424",
                                    "6": "5",
                                    "7": "86"
                                },
                                {
                                    "0": "87",
                                    "1": "4235482",
                                    "2": "NULL",
                                    "3": "NULL",
                                    "4": "134878717964",
                                    "5": "3762",
                                    "6": "5",
                                    "7": "87"
                                },
                                {
                                    "0": "88",
                                    "1": "3968537",
                                    "2": "NULL",
                                    "3": "NULL",
                                    "4": "245053456277",
                                    "5": "2586",
                                    "6": "5",
                                    "7": "88"
                                },
                                {
                                    "0": "89",
                                    "1": "4203159",
                                    "2": "NULL",
                                    "3": "NULL",
                                    "4": "166873555032",
                                    "5": "8392",
                                    "6": "5",
                                    "7": "89"
                                },
                                {
                                    "0": "90",
                                    "1": "3977610",
                                    "2": "NULL",
                                    "3": "NULL",
                                    "4": "231443270852",
                                    "5": "1340",
                                    "6": "5",
                                    "7": "90"
                                },
                                {
                                    "0": "91",
                                    "1": "3637546",
                                    "2": "NULL",
                                    "3": "NULL",
                                    "4": "214024965081",
                                    "5": "4277",
                                    "6": "5",
                                    "7": "91"
                                },
                                {
                                    "0": "92",
                                    "1": "4196461",
                                    "2": "NULL",
                                    "3": "NULL",
                                    "4": "157866566156",
                                    "5": "7702",
                                    "6": "5",
                                    "7": "92"
                                },
                                {
                                    "0": "93",
                                    "1": "3780352",
                                    "2": "NULL",
                                    "3": "NULL",
                                    "4": "175234849008",
                                    "5": "5398",
                                    "6": "5",
                                    "7": "93"
                                },
                                {
                                    "0": "94",
                                    "1": "3945168",
                                    "2": "NULL",
                                    "3": "NULL",
                                    "4": "249331929857",
                                    "5": "1092",
                                    "6": "5",
                                    "7": "94"
                                },
                                {
                                    "0": "95",
                                    "1": "4207921",
                                    "2": "NULL",
                                    "3": "NULL",
                                    "4": "186026764980",
                                    "5": "4100",
                                    "6": "5",
                                    "7": "95"
                                },
                                {
                                    "0": "96",
                                    "1": "3857269",
                                    "2": "NULL",
                                    "3": "NULL",
                                    "4": "118808370130",
                                    "5": "6050",
                                    "6": "5",
                                    "7": "96"
                                },
                                {
                                    "0": "97",
                                    "1": "4232788",
                                    "2": "NULL",
                                    "3": "NULL",
                                    "4": "123024767543",
                                    "5": "9261",
                                    "6": "5",
                                    "7": "97"
                                },
                                {
                                    "0": "98",
                                    "1": "3595761",
                                    "2": "NULL",
                                    "3": "NULL",
                                    "4": "238320092716",
                                    "5": "3856",
                                    "6": "5",
                                    "7": "98"
                                },
                                {
                                    "0": "99",
                                    "1": "4245422",
                                    "2": "NULL",
                                    "3": "NULL",
                                    "4": "163187648704",
                                    "5": "7115",
                                    "6": "5",
                                    "7": "99"
                                },
                                {
                                    "0": "100",
                                    "1": "3919389",
                                    "2": "NULL",
                                    "3": "NULL",
                                    "4": "237594696951",
                                    "5": "5223",
                                    "6": "5",
                                    "7": "100"
                                },
                                {
                                    "0": "101",
                                    "1": "3917225",
                                    "2": "NULL",
                                    "3": "NULL",
                                    "4": "216284471218",
                                    "5": "8235",
                                    "6": "5",
                                    "7": "101"
                                },
                                {
                                    "0": "102",
                                    "1": "4173229",
                                    "2": "NULL",
                                    "3": "NULL",
                                    "4": "193746177194",
                                    "5": "4327",
                                    "6": "5",
                                    "7": "102"
                                },
                                {
                                    "0": "103",
                                    "1": "4103338",
                                    "2": "NULL",
                                    "3": "NULL",
                                    "4": "174732721445",
                                    "5": "8519",
                                    "6": "5",
                                    "7": "103"
                                },
                                {
                                    "0": "104",
                                    "1": "4223595",
                                    "2": "NULL",
                                    "3": "NULL",
                                    "4": "108074649224",
                                    "5": "8240",
                                    "6": "5",
                                    "7": "104"
                                },
                                {
                                    "0": "105",
                                    "1": "4270830",
                                    "2": "NULL",
                                    "3": "NULL",
                                    "4": "183297638118",
                                    "5": "7719",
                                    "6": "5",
                                    "7": "105"
                                },
                                {
                                    "0": "106",
                                    "1": "3605332",
                                    "2": "NULL",
                                    "3": "NULL",
                                    "4": "220448039938",
                                    "5": "6310",
                                    "6": "5",
                                    "7": "106"
                                },
                                {
                                    "0": "107",
                                    "1": "4051125",
                                    "2": "NULL",
                                    "3": "NULL",
                                    "4": "199942140747",
                                    "5": "9361",
                                    "6": "5",
                                    "7": "107"
                                },
                                {
                                    "0": "108",
                                    "1": "4211103",
                                    "2": "NULL",
                                    "3": "NULL",
                                    "4": "119582914442",
                                    "5": "7162",
                                    "6": "5",
                                    "7": "108"
                                },
                                {
                                    "0": "109",
                                    "1": "4231735",
                                    "2": "NULL",
                                    "3": "NULL",
                                    "4": "154142241794",
                                    "5": "3747",
                                    "6": "5",
                                    "7": "109"
                                },
                                {
                                    "0": "110",
                                    "1": "4161908",
                                    "2": "NULL",
                                    "3": "NULL",
                                    "4": "113265673968",
                                    "5": "7133",
                                    "6": "5",
                                    "7": "110"
                                },
                                {
                                    "0": "111",
                                    "1": "4036322",
                                    "2": "NULL",
                                    "3": "NULL",
                                    "4": "117538452673",
                                    "5": "3693",
                                    "6": "5",
                                    "7": "111"
                                },
                                {
                                    "0": "112",
                                    "1": "4170758",
                                    "2": "NULL",
                                    "3": "NULL",
                                    "4": "118229569665",
                                    "5": "4926",
                                    "6": "5",
                                    "7": "112"
                                },
                                {
                                    "0": "113",
                                    "1": "4208638",
                                    "2": "NULL",
                                    "3": "NULL",
                                    "4": "177037995499",
                                    "5": "6496",
                                    "6": "5",
                                    "7": "113"
                                },
                                {
                                    "0": "114",
                                    "1": "4189637",
                                    "2": "NULL",
                                    "3": "NULL",
                                    "4": "196608221417",
                                    "5": "1999",
                                    "6": "5",
                                    "7": "114"
                                },
                                {
                                    "0": "115",
                                    "1": "4203916",
                                    "2": "NULL",
                                    "3": "NULL",
                                    "4": "158761932044",
                                    "5": "8813",
                                    "6": "5",
                                    "7": "115"
                                },
                                {
                                    "0": "116",
                                    "1": "4249639",
                                    "2": "NULL",
                                    "3": "NULL",
                                    "4": "144011463749",
                                    "5": "2976",
                                    "6": "5",
                                    "7": "116"
                                },
                                {
                                    "0": "117",
                                    "1": "4060544",
                                    "2": "NULL",
                                    "3": "NULL",
                                    "4": "227353075568",
                                    "5": "3478",
                                    "6": "5",
                                    "7": "117"
                                },
                                {
                                    "0": "118",
                                    "1": "4246089",
                                    "2": "NULL",
                                    "3": "NULL",
                                    "4": "233691969014",
                                    "5": "6324",
                                    "6": "5",
                                    "7": "118"
                                },
                                {
                                    "0": "119",
                                    "1": "4287972",
                                    "2": "NULL",
                                    "3": "NULL",
                                    "4": "102941604341",
                                    "5": "9780",
                                    "6": "5",
                                    "7": "119"
                                },
                                {
                                    "0": "120",
                                    "1": "4200269",
                                    "2": "NULL",
                                    "3": "NULL",
                                    "4": "234754175222",
                                    "5": "9245",
                                    "6": "5",
                                    "7": "120"
                                },
                                {
                                    "0": "121",
                                    "1": "4275760",
                                    "2": "NULL",
                                    "3": "NULL",
                                    "4": "180342564128",
                                    "5": "1409",
                                    "6": "5",
                                    "7": "121"
                                },
                                {
                                    "0": "122",
                                    "1": "4169366",
                                    "2": "NULL",
                                    "3": "NULL",
                                    "4": "140974810788",
                                    "5": "8860",
                                    "6": "5",
                                    "7": "122"
                                },
                                {
                                    "0": "123",
                                    "1": "4264863",
                                    "2": "NULL",
                                    "3": "NULL",
                                    "4": "113017050089",
                                    "5": "7263",
                                    "6": "5",
                                    "7": "123"
                                },
                                {
                                    "0": "124",
                                    "1": "4284271",
                                    "2": "NULL",
                                    "3": "NULL",
                                    "4": "107780115565",
                                    "5": "3852",
                                    "6": "5",
                                    "7": "124"
                                },
                                {
                                    "0": "125",
                                    "1": "4196347",
                                    "2": "NULL",
                                    "3": "NULL",
                                    "4": "206514101468",
                                    "5": "9889",
                                    "6": "5",
                                    "7": "125"
                                },
                                {
                                    "0": "126",
                                    "1": "3543979",
                                    "2": "NULL",
                                    "3": "NULL",
                                    "4": "170576499184",
                                    "5": "6155",
                                    "6": "5",
                                    "7": "126"
                                },
                                {
                                    "0": "127",
                                    "1": "4188190",
                                    "2": "NULL",
                                    "3": "NULL",
                                    "4": "207963067908",
                                    "5": "2731",
                                    "6": "5",
                                    "7": "127"
                                },
                                {
                                    "0": "128",
                                    "1": "4247721",
                                    "2": "NULL",
                                    "3": "NULL",
                                    "4": "167226161871",
                                    "5": "8806",
                                    "6": "5",
                                    "7": "128"
                                },
                                {
                                    "0": "129",
                                    "1": "4201832",
                                    "2": "NULL",
                                    "3": "NULL",
                                    "4": "198555648825",
                                    "5": "6458",
                                    "6": "5",
                                    "7": "129"
                                },
                                {
                                    "0": "130",
                                    "1": "4196837",
                                    "2": "NULL",
                                    "3": "NULL",
                                    "4": "166020512099",
                                    "5": "1617",
                                    "6": "5",
                                    "7": "130"
                                },
                                {
                                    "0": "131",
                                    "1": "4178049",
                                    "2": "NULL",
                                    "3": "NULL",
                                    "4": "142535697152",
                                    "5": "1499",
                                    "6": "5",
                                    "7": "131"
                                },
                                {
                                    "0": "132",
                                    "1": "4188592",
                                    "2": "NULL",
                                    "3": "NULL",
                                    "4": "196614338740",
                                    "5": "6128",
                                    "6": "5",
                                    "7": "132"
                                },
                                {
                                    "0": "133",
                                    "1": "4198009",
                                    "2": "NULL",
                                    "3": "NULL",
                                    "4": "168036533092",
                                    "5": "3551",
                                    "6": "5",
                                    "7": "133"
                                },
                                {
                                    "0": "134",
                                    "1": "4280589",
                                    "2": "NULL",
                                    "3": "NULL",
                                    "4": "227407725089",
                                    "5": "2685",
                                    "6": "5",
                                    "7": "134"
                                },
                                {
                                    "0": "135",
                                    "1": "4242045",
                                    "2": "NULL",
                                    "3": "NULL",
                                    "4": "134574519691",
                                    "5": "9705",
                                    "6": "5",
                                    "7": "135"
                                },
                                {
                                    "0": "136",
                                    "1": "2769559",
                                    "2": "NULL",
                                    "3": "NULL",
                                    "4": "140139730274",
                                    "5": "3263",
                                    "6": "5",
                                    "7": "136"
                                },
                                {
                                    "0": "137",
                                    "1": "4251447",
                                    "2": "NULL",
                                    "3": "NULL",
                                    "4": "183558086837",
                                    "5": "2879",
                                    "6": "5",
                                    "7": "137"
                                },
                                {
                                    "0": "138",
                                    "1": "4097111",
                                    "2": "NULL",
                                    "3": "NULL",
                                    "4": "205383640024",
                                    "5": "9401",
                                    "6": "5",
                                    "7": "138"
                                },
                                {
                                    "0": "139",
                                    "1": "4203875",
                                    "2": "NULL",
                                    "3": "NULL",
                                    "4": "148283413484",
                                    "5": "1078",
                                    "6": "5",
                                    "7": "139"
                                },
                                {
                                    "0": "140",
                                    "1": "2719030",
                                    "2": "NULL",
                                    "3": "NULL",
                                    "4": "240715120191",
                                    "5": "6533",
                                    "6": "5",
                                    "7": "140"
                                },
                                {
                                    "0": "141",
                                    "1": "4232205",
                                    "2": "NULL",
                                    "3": "NULL",
                                    "4": "120380643658",
                                    "5": "3844",
                                    "6": "5",
                                    "7": "141"
                                },
                                {
                                    "0": "142",
                                    "1": "4256946",
                                    "2": "NULL",
                                    "3": "NULL",
                                    "4": "236696525571",
                                    "5": "4128",
                                    "6": "5",
                                    "7": "142"
                                },
                                {
                                    "0": "143",
                                    "1": "4244497",
                                    "2": "NULL",
                                    "3": "NULL",
                                    "4": "119935081930",
                                    "5": "5736",
                                    "6": "5",
                                    "7": "143"
                                },
                                {
                                    "0": "144",
                                    "1": "4218564",
                                    "2": "NULL",
                                    "3": "NULL",
                                    "4": "114353751619",
                                    "5": "2584",
                                    "6": "5",
                                    "7": "144"
                                },
                                {
                                    "0": "145",
                                    "1": "3962454",
                                    "2": "NULL",
                                    "3": "NULL",
                                    "4": "106991701856",
                                    "5": "9338",
                                    "6": "5",
                                    "7": "145"
                                },
                                {
                                    "0": "146",
                                    "1": "4266651",
                                    "2": "NULL",
                                    "3": "NULL",
                                    "4": "155144413108",
                                    "5": "4499",
                                    "6": "5",
                                    "7": "146"
                                },
                                {
                                    "0": "147",
                                    "1": "3501800",
                                    "2": "NULL",
                                    "3": "NULL",
                                    "4": "116470852500",
                                    "5": "8449",
                                    "6": "5",
                                    "7": "147"
                                },
                                {
                                    "0": "148",
                                    "1": "4258673",
                                    "2": "NULL",
                                    "3": "NULL",
                                    "4": "228088106191",
                                    "5": "2429",
                                    "6": "5",
                                    "7": "148"
                                },
                                {
                                    "0": "149",
                                    "1": "4133137",
                                    "2": "NULL",
                                    "3": "NULL",
                                    "4": "125444447593",
                                    "5": "6191",
                                    "6": "5",
                                    "7": "149"
                                },
                                {
                                    "0": "150",
                                    "1": "4209254",
                                    "2": "NULL",
                                    "3": "NULL",
                                    "4": "234726042481",
                                    "5": "6839",
                                    "6": "5",
                                    "7": "150"
                                }
                            ]
                        },
                        "text/html": [
                            "<table>",
                            "<tr><th>ID</th><th>CUSTOMER_ID</th><th>CARDNUMBER</th><th>PIN</th><th>CARDNUMBER</th><th>PIN</th><th>VALUE</th><th>ROWID</th></tr>",
                            "<tr><td>1</td><td>4214941</td><td>NULL</td><td>NULL</td><td>174943770439</td><td>9777</td><td>5</td><td>1</td></tr>",
                            "<tr><td>2</td><td>4276878</td><td>NULL</td><td>NULL</td><td>197827564076</td><td>6563</td><td>5</td><td>2</td></tr>",
                            "<tr><td>3</td><td>4170876</td><td>NULL</td><td>NULL</td><td>209293460449</td><td>4580</td><td>5</td><td>3</td></tr>",
                            "<tr><td>4</td><td>4207486</td><td>NULL</td><td>NULL</td><td>188081367736</td><td>6594</td><td>5</td><td>4</td></tr>",
                            "<tr><td>5</td><td>4194813</td><td>NULL</td><td>NULL</td><td>191237122026</td><td>2238</td><td>5</td><td>5</td></tr>",
                            "<tr><td>6</td><td>4033599</td><td>NULL</td><td>NULL</td><td>125154336924</td><td>4602</td><td>5</td><td>6</td></tr>",
                            "<tr><td>7</td><td>3938711</td><td>NULL</td><td>NULL</td><td>168101825465</td><td>5861</td><td>5</td><td>7</td></tr>",
                            "<tr><td>8</td><td>4252354</td><td>NULL</td><td>NULL</td><td>237409550065</td><td>7893</td><td>5</td><td>8</td></tr>",
                            "<tr><td>9</td><td>4017893</td><td>NULL</td><td>NULL</td><td>179823004372</td><td>2868</td><td>5</td><td>9</td></tr>",
                            "<tr><td>10</td><td>4121731</td><td>NULL</td><td>NULL</td><td>157866566156</td><td>7702</td><td>5</td><td>10</td></tr>",
                            "<tr><td>11</td><td>4220255</td><td>NULL</td><td>NULL</td><td>145881301554</td><td>1449</td><td>5</td><td>11</td></tr>",
                            "<tr><td>12</td><td>4214007</td><td>NULL</td><td>NULL</td><td>169585042248</td><td>2194</td><td>5</td><td>12</td></tr>",
                            "<tr><td>13</td><td>4184229</td><td>NULL</td><td>NULL</td><td>106365139071</td><td>4294</td><td>5</td><td>13</td></tr>",
                            "<tr><td>14</td><td>4101518</td><td>NULL</td><td>NULL</td><td>164477933000</td><td>4220</td><td>5</td><td>14</td></tr>",
                            "<tr><td>15</td><td>3697744</td><td>NULL</td><td>NULL</td><td>247699045039</td><td>5655</td><td>5</td><td>15</td></tr>",
                            "<tr><td>16</td><td>4283002</td><td>NULL</td><td>NULL</td><td>226314154428</td><td>4971</td><td>5</td><td>16</td></tr>",
                            "<tr><td>17</td><td>4216371</td><td>NULL</td><td>NULL</td><td>193622256341</td><td>2569</td><td>5</td><td>17</td></tr>",
                            "<tr><td>18</td><td>4260321</td><td>NULL</td><td>NULL</td><td>229730303234</td><td>2481</td><td>5</td><td>18</td></tr>",
                            "<tr><td>19</td><td>4217563</td><td>NULL</td><td>NULL</td><td>201182376068</td><td>7497</td><td>5</td><td>19</td></tr>",
                            "<tr><td>20</td><td>4260233</td><td>NULL</td><td>NULL</td><td>240264574863</td><td>9301</td><td>5</td><td>20</td></tr>",
                            "<tr><td>21</td><td>2425145</td><td>NULL</td><td>NULL</td><td>247991954774</td><td>6821</td><td>5</td><td>21</td></tr>",
                            "<tr><td>22</td><td>4222947</td><td>NULL</td><td>NULL</td><td>164612419452</td><td>6810</td><td>5</td><td>22</td></tr>",
                            "<tr><td>23</td><td>4019758</td><td>NULL</td><td>NULL</td><td>147478570756</td><td>2491</td><td>5</td><td>23</td></tr>",
                            "<tr><td>24</td><td>4177668</td><td>NULL</td><td>NULL</td><td>146533589239</td><td>1049</td><td>5</td><td>24</td></tr>",
                            "<tr><td>25</td><td>4249421</td><td>NULL</td><td>NULL</td><td>209079603658</td><td>2124</td><td>5</td><td>25</td></tr>",
                            "<tr><td>26</td><td>4011025</td><td>NULL</td><td>NULL</td><td>113159572622</td><td>9625</td><td>5</td><td>26</td></tr>",
                            "<tr><td>27</td><td>4243428</td><td>NULL</td><td>NULL</td><td>190044250116</td><td>6473</td><td>5</td><td>27</td></tr>",
                            "<tr><td>28</td><td>4253550</td><td>NULL</td><td>NULL</td><td>203300689253</td><td>4982</td><td>5</td><td>28</td></tr>",
                            "<tr><td>29</td><td>4028061</td><td>NULL</td><td>NULL</td><td>115275670399</td><td>9573</td><td>5</td><td>29</td></tr>",
                            "<tr><td>30</td><td>4184756</td><td>NULL</td><td>NULL</td><td>103240375611</td><td>2793</td><td>5</td><td>30</td></tr>",
                            "<tr><td>31</td><td>4270590</td><td>NULL</td><td>NULL</td><td>220252293925</td><td>4119</td><td>5</td><td>31</td></tr>",
                            "<tr><td>32</td><td>4215111</td><td>NULL</td><td>NULL</td><td>192507257273</td><td>5462</td><td>5</td><td>32</td></tr>",
                            "<tr><td>33</td><td>4224708</td><td>NULL</td><td>NULL</td><td>171599420528</td><td>9341</td><td>5</td><td>33</td></tr>",
                            "<tr><td>34</td><td>3014806</td><td>NULL</td><td>NULL</td><td>109856036155</td><td>7595</td><td>5</td><td>34</td></tr>",
                            "<tr><td>35</td><td>4254417</td><td>NULL</td><td>NULL</td><td>227497716767</td><td>3006</td><td>5</td><td>35</td></tr>",
                            "<tr><td>36</td><td>4283255</td><td>NULL</td><td>NULL</td><td>158222508015</td><td>9526</td><td>5</td><td>36</td></tr>",
                            "<tr><td>37</td><td>4254781</td><td>NULL</td><td>NULL</td><td>186238036583</td><td>4047</td><td>5</td><td>37</td></tr>",
                            "<tr><td>38</td><td>4286785</td><td>NULL</td><td>NULL</td><td>247724219317</td><td>6017</td><td>5</td><td>38</td></tr>",
                            "<tr><td>39</td><td>3454310</td><td>NULL</td><td>NULL</td><td>247312211117</td><td>9589</td><td>5</td><td>39</td></tr>",
                            "<tr><td>40</td><td>4272644</td><td>NULL</td><td>NULL</td><td>136231581620</td><td>9472</td><td>5</td><td>40</td></tr>",
                            "<tr><td>41</td><td>4196944</td><td>NULL</td><td>NULL</td><td>107234638754</td><td>7687</td><td>5</td><td>41</td></tr>",
                            "<tr><td>42</td><td>4169990</td><td>NULL</td><td>NULL</td><td>216975937247</td><td>1402</td><td>5</td><td>42</td></tr>",
                            "<tr><td>43</td><td>4209869</td><td>NULL</td><td>NULL</td><td>194878242935</td><td>5410</td><td>5</td><td>43</td></tr>",
                            "<tr><td>44</td><td>4242201</td><td>NULL</td><td>NULL</td><td>192057713162</td><td>9209</td><td>5</td><td>44</td></tr>",
                            "<tr><td>45</td><td>4220519</td><td>NULL</td><td>NULL</td><td>204554724610</td><td>9109</td><td>5</td><td>45</td></tr>",
                            "<tr><td>46</td><td>4216374</td><td>NULL</td><td>NULL</td><td>196058990701</td><td>2787</td><td>5</td><td>46</td></tr>",
                            "<tr><td>47</td><td>4247588</td><td>NULL</td><td>NULL</td><td>163421689468</td><td>9653</td><td>5</td><td>47</td></tr>",
                            "<tr><td>48</td><td>4202536</td><td>NULL</td><td>NULL</td><td>140934980053</td><td>7498</td><td>5</td><td>48</td></tr>",
                            "<tr><td>49</td><td>4239553</td><td>NULL</td><td>NULL</td><td>120170500190</td><td>6535</td><td>5</td><td>49</td></tr>",
                            "<tr><td>50</td><td>4174193</td><td>NULL</td><td>NULL</td><td>125277511160</td><td>8911</td><td>5</td><td>50</td></tr>",
                            "<tr><td>51</td><td>4248882</td><td>NULL</td><td>NULL</td><td>196382363207</td><td>2297</td><td>5</td><td>51</td></tr>",
                            "<tr><td>52</td><td>4024896</td><td>NULL</td><td>NULL</td><td>214600463425</td><td>8046</td><td>5</td><td>52</td></tr>",
                            "<tr><td>53</td><td>4209424</td><td>NULL</td><td>NULL</td><td>180678656591</td><td>1166</td><td>5</td><td>53</td></tr>",
                            "<tr><td>54</td><td>4283508</td><td>NULL</td><td>NULL</td><td>204173475200</td><td>9196</td><td>5</td><td>54</td></tr>",
                            "<tr><td>55</td><td>3919313</td><td>NULL</td><td>NULL</td><td>115152048220</td><td>2965</td><td>5</td><td>55</td></tr>",
                            "<tr><td>56</td><td>4260356</td><td>NULL</td><td>NULL</td><td>103292539828</td><td>3597</td><td>5</td><td>56</td></tr>",
                            "<tr><td>57</td><td>4214200</td><td>NULL</td><td>NULL</td><td>235545858431</td><td>7084</td><td>5</td><td>57</td></tr>",
                            "<tr><td>58</td><td>4262346</td><td>NULL</td><td>NULL</td><td>217024229514</td><td>5912</td><td>5</td><td>58</td></tr>",
                            "<tr><td>59</td><td>4059170</td><td>NULL</td><td>NULL</td><td>158649956799</td><td>7513</td><td>5</td><td>59</td></tr>",
                            "<tr><td>60</td><td>4051148</td><td>NULL</td><td>NULL</td><td>152574068414</td><td>8589</td><td>5</td><td>60</td></tr>",
                            "<tr><td>61</td><td>4198578</td><td>NULL</td><td>NULL</td><td>196296312281</td><td>4370</td><td>5</td><td>61</td></tr>",
                            "<tr><td>62</td><td>4070770</td><td>NULL</td><td>NULL</td><td>133731201791</td><td>7922</td><td>5</td><td>62</td></tr>",
                            "<tr><td>63</td><td>3970123</td><td>NULL</td><td>NULL</td><td>204910242344</td><td>6149</td><td>5</td><td>63</td></tr>",
                            "<tr><td>64</td><td>4208679</td><td>NULL</td><td>NULL</td><td>107052591844</td><td>4461</td><td>5</td><td>64</td></tr>",
                            "<tr><td>65</td><td>4265362</td><td>NULL</td><td>NULL</td><td>198823573643</td><td>5773</td><td>5</td><td>65</td></tr>",
                            "<tr><td>66</td><td>4178970</td><td>NULL</td><td>NULL</td><td>244533525832</td><td>6994</td><td>5</td><td>66</td></tr>",
                            "<tr><td>67</td><td>4250052</td><td>NULL</td><td>NULL</td><td>224789977379</td><td>3703</td><td>5</td><td>67</td></tr>",
                            "<tr><td>68</td><td>4269267</td><td>NULL</td><td>NULL</td><td>205263726139</td><td>6120</td><td>5</td><td>68</td></tr>",
                            "<tr><td>69</td><td>4260650</td><td>NULL</td><td>NULL</td><td>216433098431</td><td>8526</td><td>5</td><td>69</td></tr>",
                            "<tr><td>70</td><td>3853128</td><td>NULL</td><td>NULL</td><td>228550083877</td><td>6488</td><td>5</td><td>70</td></tr>",
                            "<tr><td>71</td><td>4186348</td><td>NULL</td><td>NULL</td><td>193902813316</td><td>9798</td><td>5</td><td>71</td></tr>",
                            "<tr><td>72</td><td>4204398</td><td>NULL</td><td>NULL</td><td>152987868945</td><td>7618</td><td>5</td><td>72</td></tr>",
                            "<tr><td>73</td><td>4233756</td><td>NULL</td><td>NULL</td><td>176081272123</td><td>7412</td><td>5</td><td>73</td></tr>",
                            "<tr><td>74</td><td>4215705</td><td>NULL</td><td>NULL</td><td>246371255218</td><td>8149</td><td>5</td><td>74</td></tr>",
                            "<tr><td>75</td><td>4193304</td><td>NULL</td><td>NULL</td><td>227106996714</td><td>5522</td><td>5</td><td>75</td></tr>",
                            "<tr><td>76</td><td>4167726</td><td>NULL</td><td>NULL</td><td>122002979292</td><td>3932</td><td>5</td><td>76</td></tr>",
                            "<tr><td>77</td><td>4254115</td><td>NULL</td><td>NULL</td><td>201180436356</td><td>5757</td><td>5</td><td>77</td></tr>",
                            "<tr><td>78</td><td>4188282</td><td>NULL</td><td>NULL</td><td>201905626904</td><td>3358</td><td>5</td><td>78</td></tr>",
                            "<tr><td>79</td><td>4240655</td><td>NULL</td><td>NULL</td><td>162154926610</td><td>9165</td><td>5</td><td>79</td></tr>",
                            "<tr><td>80</td><td>3926398</td><td>NULL</td><td>NULL</td><td>114637455300</td><td>3082</td><td>5</td><td>80</td></tr>",
                            "<tr><td>81</td><td>4186715</td><td>NULL</td><td>NULL</td><td>180074881058</td><td>3972</td><td>5</td><td>81</td></tr>",
                            "<tr><td>82</td><td>4237953</td><td>NULL</td><td>NULL</td><td>217195588937</td><td>1369</td><td>5</td><td>82</td></tr>",
                            "<tr><td>83</td><td>4175941</td><td>NULL</td><td>NULL</td><td>155902594827</td><td>3530</td><td>5</td><td>83</td></tr>",
                            "<tr><td>84</td><td>4252507</td><td>NULL</td><td>NULL</td><td>166139534358</td><td>5240</td><td>5</td><td>84</td></tr>",
                            "<tr><td>85</td><td>4185912</td><td>NULL</td><td>NULL</td><td>111983916303</td><td>6209</td><td>5</td><td>85</td></tr>",
                            "<tr><td>86</td><td>4242908</td><td>NULL</td><td>NULL</td><td>189626180682</td><td>6424</td><td>5</td><td>86</td></tr>",
                            "<tr><td>87</td><td>4235482</td><td>NULL</td><td>NULL</td><td>134878717964</td><td>3762</td><td>5</td><td>87</td></tr>",
                            "<tr><td>88</td><td>3968537</td><td>NULL</td><td>NULL</td><td>245053456277</td><td>2586</td><td>5</td><td>88</td></tr>",
                            "<tr><td>89</td><td>4203159</td><td>NULL</td><td>NULL</td><td>166873555032</td><td>8392</td><td>5</td><td>89</td></tr>",
                            "<tr><td>90</td><td>3977610</td><td>NULL</td><td>NULL</td><td>231443270852</td><td>1340</td><td>5</td><td>90</td></tr>",
                            "<tr><td>91</td><td>3637546</td><td>NULL</td><td>NULL</td><td>214024965081</td><td>4277</td><td>5</td><td>91</td></tr>",
                            "<tr><td>92</td><td>4196461</td><td>NULL</td><td>NULL</td><td>157866566156</td><td>7702</td><td>5</td><td>92</td></tr>",
                            "<tr><td>93</td><td>3780352</td><td>NULL</td><td>NULL</td><td>175234849008</td><td>5398</td><td>5</td><td>93</td></tr>",
                            "<tr><td>94</td><td>3945168</td><td>NULL</td><td>NULL</td><td>249331929857</td><td>1092</td><td>5</td><td>94</td></tr>",
                            "<tr><td>95</td><td>4207921</td><td>NULL</td><td>NULL</td><td>186026764980</td><td>4100</td><td>5</td><td>95</td></tr>",
                            "<tr><td>96</td><td>3857269</td><td>NULL</td><td>NULL</td><td>118808370130</td><td>6050</td><td>5</td><td>96</td></tr>",
                            "<tr><td>97</td><td>4232788</td><td>NULL</td><td>NULL</td><td>123024767543</td><td>9261</td><td>5</td><td>97</td></tr>",
                            "<tr><td>98</td><td>3595761</td><td>NULL</td><td>NULL</td><td>238320092716</td><td>3856</td><td>5</td><td>98</td></tr>",
                            "<tr><td>99</td><td>4245422</td><td>NULL</td><td>NULL</td><td>163187648704</td><td>7115</td><td>5</td><td>99</td></tr>",
                            "<tr><td>100</td><td>3919389</td><td>NULL</td><td>NULL</td><td>237594696951</td><td>5223</td><td>5</td><td>100</td></tr>",
                            "<tr><td>101</td><td>3917225</td><td>NULL</td><td>NULL</td><td>216284471218</td><td>8235</td><td>5</td><td>101</td></tr>",
                            "<tr><td>102</td><td>4173229</td><td>NULL</td><td>NULL</td><td>193746177194</td><td>4327</td><td>5</td><td>102</td></tr>",
                            "<tr><td>103</td><td>4103338</td><td>NULL</td><td>NULL</td><td>174732721445</td><td>8519</td><td>5</td><td>103</td></tr>",
                            "<tr><td>104</td><td>4223595</td><td>NULL</td><td>NULL</td><td>108074649224</td><td>8240</td><td>5</td><td>104</td></tr>",
                            "<tr><td>105</td><td>4270830</td><td>NULL</td><td>NULL</td><td>183297638118</td><td>7719</td><td>5</td><td>105</td></tr>",
                            "<tr><td>106</td><td>3605332</td><td>NULL</td><td>NULL</td><td>220448039938</td><td>6310</td><td>5</td><td>106</td></tr>",
                            "<tr><td>107</td><td>4051125</td><td>NULL</td><td>NULL</td><td>199942140747</td><td>9361</td><td>5</td><td>107</td></tr>",
                            "<tr><td>108</td><td>4211103</td><td>NULL</td><td>NULL</td><td>119582914442</td><td>7162</td><td>5</td><td>108</td></tr>",
                            "<tr><td>109</td><td>4231735</td><td>NULL</td><td>NULL</td><td>154142241794</td><td>3747</td><td>5</td><td>109</td></tr>",
                            "<tr><td>110</td><td>4161908</td><td>NULL</td><td>NULL</td><td>113265673968</td><td>7133</td><td>5</td><td>110</td></tr>",
                            "<tr><td>111</td><td>4036322</td><td>NULL</td><td>NULL</td><td>117538452673</td><td>3693</td><td>5</td><td>111</td></tr>",
                            "<tr><td>112</td><td>4170758</td><td>NULL</td><td>NULL</td><td>118229569665</td><td>4926</td><td>5</td><td>112</td></tr>",
                            "<tr><td>113</td><td>4208638</td><td>NULL</td><td>NULL</td><td>177037995499</td><td>6496</td><td>5</td><td>113</td></tr>",
                            "<tr><td>114</td><td>4189637</td><td>NULL</td><td>NULL</td><td>196608221417</td><td>1999</td><td>5</td><td>114</td></tr>",
                            "<tr><td>115</td><td>4203916</td><td>NULL</td><td>NULL</td><td>158761932044</td><td>8813</td><td>5</td><td>115</td></tr>",
                            "<tr><td>116</td><td>4249639</td><td>NULL</td><td>NULL</td><td>144011463749</td><td>2976</td><td>5</td><td>116</td></tr>",
                            "<tr><td>117</td><td>4060544</td><td>NULL</td><td>NULL</td><td>227353075568</td><td>3478</td><td>5</td><td>117</td></tr>",
                            "<tr><td>118</td><td>4246089</td><td>NULL</td><td>NULL</td><td>233691969014</td><td>6324</td><td>5</td><td>118</td></tr>",
                            "<tr><td>119</td><td>4287972</td><td>NULL</td><td>NULL</td><td>102941604341</td><td>9780</td><td>5</td><td>119</td></tr>",
                            "<tr><td>120</td><td>4200269</td><td>NULL</td><td>NULL</td><td>234754175222</td><td>9245</td><td>5</td><td>120</td></tr>",
                            "<tr><td>121</td><td>4275760</td><td>NULL</td><td>NULL</td><td>180342564128</td><td>1409</td><td>5</td><td>121</td></tr>",
                            "<tr><td>122</td><td>4169366</td><td>NULL</td><td>NULL</td><td>140974810788</td><td>8860</td><td>5</td><td>122</td></tr>",
                            "<tr><td>123</td><td>4264863</td><td>NULL</td><td>NULL</td><td>113017050089</td><td>7263</td><td>5</td><td>123</td></tr>",
                            "<tr><td>124</td><td>4284271</td><td>NULL</td><td>NULL</td><td>107780115565</td><td>3852</td><td>5</td><td>124</td></tr>",
                            "<tr><td>125</td><td>4196347</td><td>NULL</td><td>NULL</td><td>206514101468</td><td>9889</td><td>5</td><td>125</td></tr>",
                            "<tr><td>126</td><td>3543979</td><td>NULL</td><td>NULL</td><td>170576499184</td><td>6155</td><td>5</td><td>126</td></tr>",
                            "<tr><td>127</td><td>4188190</td><td>NULL</td><td>NULL</td><td>207963067908</td><td>2731</td><td>5</td><td>127</td></tr>",
                            "<tr><td>128</td><td>4247721</td><td>NULL</td><td>NULL</td><td>167226161871</td><td>8806</td><td>5</td><td>128</td></tr>",
                            "<tr><td>129</td><td>4201832</td><td>NULL</td><td>NULL</td><td>198555648825</td><td>6458</td><td>5</td><td>129</td></tr>",
                            "<tr><td>130</td><td>4196837</td><td>NULL</td><td>NULL</td><td>166020512099</td><td>1617</td><td>5</td><td>130</td></tr>",
                            "<tr><td>131</td><td>4178049</td><td>NULL</td><td>NULL</td><td>142535697152</td><td>1499</td><td>5</td><td>131</td></tr>",
                            "<tr><td>132</td><td>4188592</td><td>NULL</td><td>NULL</td><td>196614338740</td><td>6128</td><td>5</td><td>132</td></tr>",
                            "<tr><td>133</td><td>4198009</td><td>NULL</td><td>NULL</td><td>168036533092</td><td>3551</td><td>5</td><td>133</td></tr>",
                            "<tr><td>134</td><td>4280589</td><td>NULL</td><td>NULL</td><td>227407725089</td><td>2685</td><td>5</td><td>134</td></tr>",
                            "<tr><td>135</td><td>4242045</td><td>NULL</td><td>NULL</td><td>134574519691</td><td>9705</td><td>5</td><td>135</td></tr>",
                            "<tr><td>136</td><td>2769559</td><td>NULL</td><td>NULL</td><td>140139730274</td><td>3263</td><td>5</td><td>136</td></tr>",
                            "<tr><td>137</td><td>4251447</td><td>NULL</td><td>NULL</td><td>183558086837</td><td>2879</td><td>5</td><td>137</td></tr>",
                            "<tr><td>138</td><td>4097111</td><td>NULL</td><td>NULL</td><td>205383640024</td><td>9401</td><td>5</td><td>138</td></tr>",
                            "<tr><td>139</td><td>4203875</td><td>NULL</td><td>NULL</td><td>148283413484</td><td>1078</td><td>5</td><td>139</td></tr>",
                            "<tr><td>140</td><td>2719030</td><td>NULL</td><td>NULL</td><td>240715120191</td><td>6533</td><td>5</td><td>140</td></tr>",
                            "<tr><td>141</td><td>4232205</td><td>NULL</td><td>NULL</td><td>120380643658</td><td>3844</td><td>5</td><td>141</td></tr>",
                            "<tr><td>142</td><td>4256946</td><td>NULL</td><td>NULL</td><td>236696525571</td><td>4128</td><td>5</td><td>142</td></tr>",
                            "<tr><td>143</td><td>4244497</td><td>NULL</td><td>NULL</td><td>119935081930</td><td>5736</td><td>5</td><td>143</td></tr>",
                            "<tr><td>144</td><td>4218564</td><td>NULL</td><td>NULL</td><td>114353751619</td><td>2584</td><td>5</td><td>144</td></tr>",
                            "<tr><td>145</td><td>3962454</td><td>NULL</td><td>NULL</td><td>106991701856</td><td>9338</td><td>5</td><td>145</td></tr>",
                            "<tr><td>146</td><td>4266651</td><td>NULL</td><td>NULL</td><td>155144413108</td><td>4499</td><td>5</td><td>146</td></tr>",
                            "<tr><td>147</td><td>3501800</td><td>NULL</td><td>NULL</td><td>116470852500</td><td>8449</td><td>5</td><td>147</td></tr>",
                            "<tr><td>148</td><td>4258673</td><td>NULL</td><td>NULL</td><td>228088106191</td><td>2429</td><td>5</td><td>148</td></tr>",
                            "<tr><td>149</td><td>4133137</td><td>NULL</td><td>NULL</td><td>125444447593</td><td>6191</td><td>5</td><td>149</td></tr>",
                            "<tr><td>150</td><td>4209254</td><td>NULL</td><td>NULL</td><td>234726042481</td><td>6839</td><td>5</td><td>150</td></tr>",
                            "</table>"
                        ]
                    }
                }
            ],
            "execution_count": 10
        },
        {
            "cell_type": "code",
            "source": [
                "-- MAKE IT FINAL\r\n",
                "UPDATE E \r\n",
                "    SET  CARDNUMBER = G.CARDNUMBER,\r\n",
                "        PIN = G.PIN\r\n",
                "FROM    #EXPORT_WINNERS E\r\n",
                "JOIN    #GIFTCARDS G ON E.ID = G.ROWID\r\n",
                "GO"
            ],
            "metadata": {
                "azdata_cell_guid": "66a8840e-d1d4-426c-b02a-a99853ca9213",
                "language": "sql"
            },
            "outputs": [
                {
                    "output_type": "display_data",
                    "data": {
                        "text/html": "(150 rows affected)"
                    },
                    "metadata": {}
                },
                {
                    "output_type": "display_data",
                    "data": {
                        "text/html": "Total execution time: 00:00:00.004"
                    },
                    "metadata": {}
                }
            ],
            "execution_count": 12
        },
        {
            "cell_type": "markdown",
            "source": [
                "**Get the final table**"
            ],
            "metadata": {
                "azdata_cell_guid": "e134d992-b96d-441f-8673-3aad6f016af9"
            },
            "attachments": {}
        },
        {
            "cell_type": "code",
            "source": [
                "SELECT CUSTOMER_ID, CARDNUMBER, PIN\r\n",
                "FROM #EXPORT_WINNERS"
            ],
            "metadata": {
                "azdata_cell_guid": "c4605fbc-c712-4fbe-8d9a-fadd97b5e636",
                "language": "sql"
            },
            "outputs": [
                {
                    "output_type": "display_data",
                    "data": {
                        "text/html": "(150 rows affected)"
                    },
                    "metadata": {}
                },
                {
                    "output_type": "display_data",
                    "data": {
                        "text/html": "Total execution time: 00:00:00.016"
                    },
                    "metadata": {}
                },
                {
                    "output_type": "execute_result",
                    "metadata": {},
                    "execution_count": 14,
                    "data": {
                        "application/vnd.dataresource+json": {
                            "schema": {
                                "fields": [
                                    {
                                        "name": "CUSTOMER_ID"
                                    },
                                    {
                                        "name": "CARDNUMBER"
                                    },
                                    {
                                        "name": "PIN"
                                    }
                                ]
                            },
                            "data": [
                                {
                                    "0": "4214941",
                                    "1": "174943770439",
                                    "2": "9777"
                                },
                                {
                                    "0": "4276878",
                                    "1": "197827564076",
                                    "2": "6563"
                                },
                                {
                                    "0": "4170876",
                                    "1": "209293460449",
                                    "2": "4580"
                                },
                                {
                                    "0": "4207486",
                                    "1": "188081367736",
                                    "2": "6594"
                                },
                                {
                                    "0": "4194813",
                                    "1": "191237122026",
                                    "2": "2238"
                                },
                                {
                                    "0": "4033599",
                                    "1": "125154336924",
                                    "2": "4602"
                                },
                                {
                                    "0": "3938711",
                                    "1": "168101825465",
                                    "2": "5861"
                                },
                                {
                                    "0": "4252354",
                                    "1": "237409550065",
                                    "2": "7893"
                                },
                                {
                                    "0": "4017893",
                                    "1": "179823004372",
                                    "2": "2868"
                                },
                                {
                                    "0": "4121731",
                                    "1": "157866566156",
                                    "2": "7702"
                                },
                                {
                                    "0": "4220255",
                                    "1": "145881301554",
                                    "2": "1449"
                                },
                                {
                                    "0": "4214007",
                                    "1": "169585042248",
                                    "2": "2194"
                                },
                                {
                                    "0": "4184229",
                                    "1": "106365139071",
                                    "2": "4294"
                                },
                                {
                                    "0": "4101518",
                                    "1": "164477933000",
                                    "2": "4220"
                                },
                                {
                                    "0": "3697744",
                                    "1": "247699045039",
                                    "2": "5655"
                                },
                                {
                                    "0": "4283002",
                                    "1": "226314154428",
                                    "2": "4971"
                                },
                                {
                                    "0": "4216371",
                                    "1": "193622256341",
                                    "2": "2569"
                                },
                                {
                                    "0": "4260321",
                                    "1": "229730303234",
                                    "2": "2481"
                                },
                                {
                                    "0": "4217563",
                                    "1": "201182376068",
                                    "2": "7497"
                                },
                                {
                                    "0": "4260233",
                                    "1": "240264574863",
                                    "2": "9301"
                                },
                                {
                                    "0": "2425145",
                                    "1": "247991954774",
                                    "2": "6821"
                                },
                                {
                                    "0": "4222947",
                                    "1": "164612419452",
                                    "2": "6810"
                                },
                                {
                                    "0": "4019758",
                                    "1": "147478570756",
                                    "2": "2491"
                                },
                                {
                                    "0": "4177668",
                                    "1": "146533589239",
                                    "2": "1049"
                                },
                                {
                                    "0": "4249421",
                                    "1": "209079603658",
                                    "2": "2124"
                                },
                                {
                                    "0": "4011025",
                                    "1": "113159572622",
                                    "2": "9625"
                                },
                                {
                                    "0": "4243428",
                                    "1": "190044250116",
                                    "2": "6473"
                                },
                                {
                                    "0": "4253550",
                                    "1": "203300689253",
                                    "2": "4982"
                                },
                                {
                                    "0": "4028061",
                                    "1": "115275670399",
                                    "2": "9573"
                                },
                                {
                                    "0": "4184756",
                                    "1": "103240375611",
                                    "2": "2793"
                                },
                                {
                                    "0": "4270590",
                                    "1": "220252293925",
                                    "2": "4119"
                                },
                                {
                                    "0": "4215111",
                                    "1": "192507257273",
                                    "2": "5462"
                                },
                                {
                                    "0": "4224708",
                                    "1": "171599420528",
                                    "2": "9341"
                                },
                                {
                                    "0": "3014806",
                                    "1": "109856036155",
                                    "2": "7595"
                                },
                                {
                                    "0": "4254417",
                                    "1": "227497716767",
                                    "2": "3006"
                                },
                                {
                                    "0": "4283255",
                                    "1": "158222508015",
                                    "2": "9526"
                                },
                                {
                                    "0": "4254781",
                                    "1": "186238036583",
                                    "2": "4047"
                                },
                                {
                                    "0": "4286785",
                                    "1": "247724219317",
                                    "2": "6017"
                                },
                                {
                                    "0": "3454310",
                                    "1": "247312211117",
                                    "2": "9589"
                                },
                                {
                                    "0": "4272644",
                                    "1": "136231581620",
                                    "2": "9472"
                                },
                                {
                                    "0": "4196944",
                                    "1": "107234638754",
                                    "2": "7687"
                                },
                                {
                                    "0": "4169990",
                                    "1": "216975937247",
                                    "2": "1402"
                                },
                                {
                                    "0": "4209869",
                                    "1": "194878242935",
                                    "2": "5410"
                                },
                                {
                                    "0": "4242201",
                                    "1": "192057713162",
                                    "2": "9209"
                                },
                                {
                                    "0": "4220519",
                                    "1": "204554724610",
                                    "2": "9109"
                                },
                                {
                                    "0": "4216374",
                                    "1": "196058990701",
                                    "2": "2787"
                                },
                                {
                                    "0": "4247588",
                                    "1": "163421689468",
                                    "2": "9653"
                                },
                                {
                                    "0": "4202536",
                                    "1": "140934980053",
                                    "2": "7498"
                                },
                                {
                                    "0": "4239553",
                                    "1": "120170500190",
                                    "2": "6535"
                                },
                                {
                                    "0": "4174193",
                                    "1": "125277511160",
                                    "2": "8911"
                                },
                                {
                                    "0": "4248882",
                                    "1": "196382363207",
                                    "2": "2297"
                                },
                                {
                                    "0": "4024896",
                                    "1": "214600463425",
                                    "2": "8046"
                                },
                                {
                                    "0": "4209424",
                                    "1": "180678656591",
                                    "2": "1166"
                                },
                                {
                                    "0": "4283508",
                                    "1": "204173475200",
                                    "2": "9196"
                                },
                                {
                                    "0": "3919313",
                                    "1": "115152048220",
                                    "2": "2965"
                                },
                                {
                                    "0": "4260356",
                                    "1": "103292539828",
                                    "2": "3597"
                                },
                                {
                                    "0": "4214200",
                                    "1": "235545858431",
                                    "2": "7084"
                                },
                                {
                                    "0": "4262346",
                                    "1": "217024229514",
                                    "2": "5912"
                                },
                                {
                                    "0": "4059170",
                                    "1": "158649956799",
                                    "2": "7513"
                                },
                                {
                                    "0": "4051148",
                                    "1": "152574068414",
                                    "2": "8589"
                                },
                                {
                                    "0": "4198578",
                                    "1": "196296312281",
                                    "2": "4370"
                                },
                                {
                                    "0": "4070770",
                                    "1": "133731201791",
                                    "2": "7922"
                                },
                                {
                                    "0": "3970123",
                                    "1": "204910242344",
                                    "2": "6149"
                                },
                                {
                                    "0": "4208679",
                                    "1": "107052591844",
                                    "2": "4461"
                                },
                                {
                                    "0": "4265362",
                                    "1": "198823573643",
                                    "2": "5773"
                                },
                                {
                                    "0": "4178970",
                                    "1": "244533525832",
                                    "2": "6994"
                                },
                                {
                                    "0": "4250052",
                                    "1": "224789977379",
                                    "2": "3703"
                                },
                                {
                                    "0": "4269267",
                                    "1": "205263726139",
                                    "2": "6120"
                                },
                                {
                                    "0": "4260650",
                                    "1": "216433098431",
                                    "2": "8526"
                                },
                                {
                                    "0": "3853128",
                                    "1": "228550083877",
                                    "2": "6488"
                                },
                                {
                                    "0": "4186348",
                                    "1": "193902813316",
                                    "2": "9798"
                                },
                                {
                                    "0": "4204398",
                                    "1": "152987868945",
                                    "2": "7618"
                                },
                                {
                                    "0": "4233756",
                                    "1": "176081272123",
                                    "2": "7412"
                                },
                                {
                                    "0": "4215705",
                                    "1": "246371255218",
                                    "2": "8149"
                                },
                                {
                                    "0": "4193304",
                                    "1": "227106996714",
                                    "2": "5522"
                                },
                                {
                                    "0": "4167726",
                                    "1": "122002979292",
                                    "2": "3932"
                                },
                                {
                                    "0": "4254115",
                                    "1": "201180436356",
                                    "2": "5757"
                                },
                                {
                                    "0": "4188282",
                                    "1": "201905626904",
                                    "2": "3358"
                                },
                                {
                                    "0": "4240655",
                                    "1": "162154926610",
                                    "2": "9165"
                                },
                                {
                                    "0": "3926398",
                                    "1": "114637455300",
                                    "2": "3082"
                                },
                                {
                                    "0": "4186715",
                                    "1": "180074881058",
                                    "2": "3972"
                                },
                                {
                                    "0": "4237953",
                                    "1": "217195588937",
                                    "2": "1369"
                                },
                                {
                                    "0": "4175941",
                                    "1": "155902594827",
                                    "2": "3530"
                                },
                                {
                                    "0": "4252507",
                                    "1": "166139534358",
                                    "2": "5240"
                                },
                                {
                                    "0": "4185912",
                                    "1": "111983916303",
                                    "2": "6209"
                                },
                                {
                                    "0": "4242908",
                                    "1": "189626180682",
                                    "2": "6424"
                                },
                                {
                                    "0": "4235482",
                                    "1": "134878717964",
                                    "2": "3762"
                                },
                                {
                                    "0": "3968537",
                                    "1": "245053456277",
                                    "2": "2586"
                                },
                                {
                                    "0": "4203159",
                                    "1": "166873555032",
                                    "2": "8392"
                                },
                                {
                                    "0": "3977610",
                                    "1": "231443270852",
                                    "2": "1340"
                                },
                                {
                                    "0": "3637546",
                                    "1": "214024965081",
                                    "2": "4277"
                                },
                                {
                                    "0": "4196461",
                                    "1": "157866566156",
                                    "2": "7702"
                                },
                                {
                                    "0": "3780352",
                                    "1": "175234849008",
                                    "2": "5398"
                                },
                                {
                                    "0": "3945168",
                                    "1": "249331929857",
                                    "2": "1092"
                                },
                                {
                                    "0": "4207921",
                                    "1": "186026764980",
                                    "2": "4100"
                                },
                                {
                                    "0": "3857269",
                                    "1": "118808370130",
                                    "2": "6050"
                                },
                                {
                                    "0": "4232788",
                                    "1": "123024767543",
                                    "2": "9261"
                                },
                                {
                                    "0": "3595761",
                                    "1": "238320092716",
                                    "2": "3856"
                                },
                                {
                                    "0": "4245422",
                                    "1": "163187648704",
                                    "2": "7115"
                                },
                                {
                                    "0": "3919389",
                                    "1": "237594696951",
                                    "2": "5223"
                                },
                                {
                                    "0": "3917225",
                                    "1": "216284471218",
                                    "2": "8235"
                                },
                                {
                                    "0": "4173229",
                                    "1": "193746177194",
                                    "2": "4327"
                                },
                                {
                                    "0": "4103338",
                                    "1": "174732721445",
                                    "2": "8519"
                                },
                                {
                                    "0": "4223595",
                                    "1": "108074649224",
                                    "2": "8240"
                                },
                                {
                                    "0": "4270830",
                                    "1": "183297638118",
                                    "2": "7719"
                                },
                                {
                                    "0": "3605332",
                                    "1": "220448039938",
                                    "2": "6310"
                                },
                                {
                                    "0": "4051125",
                                    "1": "199942140747",
                                    "2": "9361"
                                },
                                {
                                    "0": "4211103",
                                    "1": "119582914442",
                                    "2": "7162"
                                },
                                {
                                    "0": "4231735",
                                    "1": "154142241794",
                                    "2": "3747"
                                },
                                {
                                    "0": "4161908",
                                    "1": "113265673968",
                                    "2": "7133"
                                },
                                {
                                    "0": "4036322",
                                    "1": "117538452673",
                                    "2": "3693"
                                },
                                {
                                    "0": "4170758",
                                    "1": "118229569665",
                                    "2": "4926"
                                },
                                {
                                    "0": "4208638",
                                    "1": "177037995499",
                                    "2": "6496"
                                },
                                {
                                    "0": "4189637",
                                    "1": "196608221417",
                                    "2": "1999"
                                },
                                {
                                    "0": "4203916",
                                    "1": "158761932044",
                                    "2": "8813"
                                },
                                {
                                    "0": "4249639",
                                    "1": "144011463749",
                                    "2": "2976"
                                },
                                {
                                    "0": "4060544",
                                    "1": "227353075568",
                                    "2": "3478"
                                },
                                {
                                    "0": "4246089",
                                    "1": "233691969014",
                                    "2": "6324"
                                },
                                {
                                    "0": "4287972",
                                    "1": "102941604341",
                                    "2": "9780"
                                },
                                {
                                    "0": "4200269",
                                    "1": "234754175222",
                                    "2": "9245"
                                },
                                {
                                    "0": "4275760",
                                    "1": "180342564128",
                                    "2": "1409"
                                },
                                {
                                    "0": "4169366",
                                    "1": "140974810788",
                                    "2": "8860"
                                },
                                {
                                    "0": "4264863",
                                    "1": "113017050089",
                                    "2": "7263"
                                },
                                {
                                    "0": "4284271",
                                    "1": "107780115565",
                                    "2": "3852"
                                },
                                {
                                    "0": "4196347",
                                    "1": "206514101468",
                                    "2": "9889"
                                },
                                {
                                    "0": "3543979",
                                    "1": "170576499184",
                                    "2": "6155"
                                },
                                {
                                    "0": "4188190",
                                    "1": "207963067908",
                                    "2": "2731"
                                },
                                {
                                    "0": "4247721",
                                    "1": "167226161871",
                                    "2": "8806"
                                },
                                {
                                    "0": "4201832",
                                    "1": "198555648825",
                                    "2": "6458"
                                },
                                {
                                    "0": "4196837",
                                    "1": "166020512099",
                                    "2": "1617"
                                },
                                {
                                    "0": "4178049",
                                    "1": "142535697152",
                                    "2": "1499"
                                },
                                {
                                    "0": "4188592",
                                    "1": "196614338740",
                                    "2": "6128"
                                },
                                {
                                    "0": "4198009",
                                    "1": "168036533092",
                                    "2": "3551"
                                },
                                {
                                    "0": "4280589",
                                    "1": "227407725089",
                                    "2": "2685"
                                },
                                {
                                    "0": "4242045",
                                    "1": "134574519691",
                                    "2": "9705"
                                },
                                {
                                    "0": "2769559",
                                    "1": "140139730274",
                                    "2": "3263"
                                },
                                {
                                    "0": "4251447",
                                    "1": "183558086837",
                                    "2": "2879"
                                },
                                {
                                    "0": "4097111",
                                    "1": "205383640024",
                                    "2": "9401"
                                },
                                {
                                    "0": "4203875",
                                    "1": "148283413484",
                                    "2": "1078"
                                },
                                {
                                    "0": "2719030",
                                    "1": "240715120191",
                                    "2": "6533"
                                },
                                {
                                    "0": "4232205",
                                    "1": "120380643658",
                                    "2": "3844"
                                },
                                {
                                    "0": "4256946",
                                    "1": "236696525571",
                                    "2": "4128"
                                },
                                {
                                    "0": "4244497",
                                    "1": "119935081930",
                                    "2": "5736"
                                },
                                {
                                    "0": "4218564",
                                    "1": "114353751619",
                                    "2": "2584"
                                },
                                {
                                    "0": "3962454",
                                    "1": "106991701856",
                                    "2": "9338"
                                },
                                {
                                    "0": "4266651",
                                    "1": "155144413108",
                                    "2": "4499"
                                },
                                {
                                    "0": "3501800",
                                    "1": "116470852500",
                                    "2": "8449"
                                },
                                {
                                    "0": "4258673",
                                    "1": "228088106191",
                                    "2": "2429"
                                },
                                {
                                    "0": "4133137",
                                    "1": "125444447593",
                                    "2": "6191"
                                },
                                {
                                    "0": "4209254",
                                    "1": "234726042481",
                                    "2": "6839"
                                }
                            ]
                        },
                        "text/html": [
                            "<table>",
                            "<tr><th>CUSTOMER_ID</th><th>CARDNUMBER</th><th>PIN</th></tr>",
                            "<tr><td>4214941</td><td>174943770439</td><td>9777</td></tr>",
                            "<tr><td>4276878</td><td>197827564076</td><td>6563</td></tr>",
                            "<tr><td>4170876</td><td>209293460449</td><td>4580</td></tr>",
                            "<tr><td>4207486</td><td>188081367736</td><td>6594</td></tr>",
                            "<tr><td>4194813</td><td>191237122026</td><td>2238</td></tr>",
                            "<tr><td>4033599</td><td>125154336924</td><td>4602</td></tr>",
                            "<tr><td>3938711</td><td>168101825465</td><td>5861</td></tr>",
                            "<tr><td>4252354</td><td>237409550065</td><td>7893</td></tr>",
                            "<tr><td>4017893</td><td>179823004372</td><td>2868</td></tr>",
                            "<tr><td>4121731</td><td>157866566156</td><td>7702</td></tr>",
                            "<tr><td>4220255</td><td>145881301554</td><td>1449</td></tr>",
                            "<tr><td>4214007</td><td>169585042248</td><td>2194</td></tr>",
                            "<tr><td>4184229</td><td>106365139071</td><td>4294</td></tr>",
                            "<tr><td>4101518</td><td>164477933000</td><td>4220</td></tr>",
                            "<tr><td>3697744</td><td>247699045039</td><td>5655</td></tr>",
                            "<tr><td>4283002</td><td>226314154428</td><td>4971</td></tr>",
                            "<tr><td>4216371</td><td>193622256341</td><td>2569</td></tr>",
                            "<tr><td>4260321</td><td>229730303234</td><td>2481</td></tr>",
                            "<tr><td>4217563</td><td>201182376068</td><td>7497</td></tr>",
                            "<tr><td>4260233</td><td>240264574863</td><td>9301</td></tr>",
                            "<tr><td>2425145</td><td>247991954774</td><td>6821</td></tr>",
                            "<tr><td>4222947</td><td>164612419452</td><td>6810</td></tr>",
                            "<tr><td>4019758</td><td>147478570756</td><td>2491</td></tr>",
                            "<tr><td>4177668</td><td>146533589239</td><td>1049</td></tr>",
                            "<tr><td>4249421</td><td>209079603658</td><td>2124</td></tr>",
                            "<tr><td>4011025</td><td>113159572622</td><td>9625</td></tr>",
                            "<tr><td>4243428</td><td>190044250116</td><td>6473</td></tr>",
                            "<tr><td>4253550</td><td>203300689253</td><td>4982</td></tr>",
                            "<tr><td>4028061</td><td>115275670399</td><td>9573</td></tr>",
                            "<tr><td>4184756</td><td>103240375611</td><td>2793</td></tr>",
                            "<tr><td>4270590</td><td>220252293925</td><td>4119</td></tr>",
                            "<tr><td>4215111</td><td>192507257273</td><td>5462</td></tr>",
                            "<tr><td>4224708</td><td>171599420528</td><td>9341</td></tr>",
                            "<tr><td>3014806</td><td>109856036155</td><td>7595</td></tr>",
                            "<tr><td>4254417</td><td>227497716767</td><td>3006</td></tr>",
                            "<tr><td>4283255</td><td>158222508015</td><td>9526</td></tr>",
                            "<tr><td>4254781</td><td>186238036583</td><td>4047</td></tr>",
                            "<tr><td>4286785</td><td>247724219317</td><td>6017</td></tr>",
                            "<tr><td>3454310</td><td>247312211117</td><td>9589</td></tr>",
                            "<tr><td>4272644</td><td>136231581620</td><td>9472</td></tr>",
                            "<tr><td>4196944</td><td>107234638754</td><td>7687</td></tr>",
                            "<tr><td>4169990</td><td>216975937247</td><td>1402</td></tr>",
                            "<tr><td>4209869</td><td>194878242935</td><td>5410</td></tr>",
                            "<tr><td>4242201</td><td>192057713162</td><td>9209</td></tr>",
                            "<tr><td>4220519</td><td>204554724610</td><td>9109</td></tr>",
                            "<tr><td>4216374</td><td>196058990701</td><td>2787</td></tr>",
                            "<tr><td>4247588</td><td>163421689468</td><td>9653</td></tr>",
                            "<tr><td>4202536</td><td>140934980053</td><td>7498</td></tr>",
                            "<tr><td>4239553</td><td>120170500190</td><td>6535</td></tr>",
                            "<tr><td>4174193</td><td>125277511160</td><td>8911</td></tr>",
                            "<tr><td>4248882</td><td>196382363207</td><td>2297</td></tr>",
                            "<tr><td>4024896</td><td>214600463425</td><td>8046</td></tr>",
                            "<tr><td>4209424</td><td>180678656591</td><td>1166</td></tr>",
                            "<tr><td>4283508</td><td>204173475200</td><td>9196</td></tr>",
                            "<tr><td>3919313</td><td>115152048220</td><td>2965</td></tr>",
                            "<tr><td>4260356</td><td>103292539828</td><td>3597</td></tr>",
                            "<tr><td>4214200</td><td>235545858431</td><td>7084</td></tr>",
                            "<tr><td>4262346</td><td>217024229514</td><td>5912</td></tr>",
                            "<tr><td>4059170</td><td>158649956799</td><td>7513</td></tr>",
                            "<tr><td>4051148</td><td>152574068414</td><td>8589</td></tr>",
                            "<tr><td>4198578</td><td>196296312281</td><td>4370</td></tr>",
                            "<tr><td>4070770</td><td>133731201791</td><td>7922</td></tr>",
                            "<tr><td>3970123</td><td>204910242344</td><td>6149</td></tr>",
                            "<tr><td>4208679</td><td>107052591844</td><td>4461</td></tr>",
                            "<tr><td>4265362</td><td>198823573643</td><td>5773</td></tr>",
                            "<tr><td>4178970</td><td>244533525832</td><td>6994</td></tr>",
                            "<tr><td>4250052</td><td>224789977379</td><td>3703</td></tr>",
                            "<tr><td>4269267</td><td>205263726139</td><td>6120</td></tr>",
                            "<tr><td>4260650</td><td>216433098431</td><td>8526</td></tr>",
                            "<tr><td>3853128</td><td>228550083877</td><td>6488</td></tr>",
                            "<tr><td>4186348</td><td>193902813316</td><td>9798</td></tr>",
                            "<tr><td>4204398</td><td>152987868945</td><td>7618</td></tr>",
                            "<tr><td>4233756</td><td>176081272123</td><td>7412</td></tr>",
                            "<tr><td>4215705</td><td>246371255218</td><td>8149</td></tr>",
                            "<tr><td>4193304</td><td>227106996714</td><td>5522</td></tr>",
                            "<tr><td>4167726</td><td>122002979292</td><td>3932</td></tr>",
                            "<tr><td>4254115</td><td>201180436356</td><td>5757</td></tr>",
                            "<tr><td>4188282</td><td>201905626904</td><td>3358</td></tr>",
                            "<tr><td>4240655</td><td>162154926610</td><td>9165</td></tr>",
                            "<tr><td>3926398</td><td>114637455300</td><td>3082</td></tr>",
                            "<tr><td>4186715</td><td>180074881058</td><td>3972</td></tr>",
                            "<tr><td>4237953</td><td>217195588937</td><td>1369</td></tr>",
                            "<tr><td>4175941</td><td>155902594827</td><td>3530</td></tr>",
                            "<tr><td>4252507</td><td>166139534358</td><td>5240</td></tr>",
                            "<tr><td>4185912</td><td>111983916303</td><td>6209</td></tr>",
                            "<tr><td>4242908</td><td>189626180682</td><td>6424</td></tr>",
                            "<tr><td>4235482</td><td>134878717964</td><td>3762</td></tr>",
                            "<tr><td>3968537</td><td>245053456277</td><td>2586</td></tr>",
                            "<tr><td>4203159</td><td>166873555032</td><td>8392</td></tr>",
                            "<tr><td>3977610</td><td>231443270852</td><td>1340</td></tr>",
                            "<tr><td>3637546</td><td>214024965081</td><td>4277</td></tr>",
                            "<tr><td>4196461</td><td>157866566156</td><td>7702</td></tr>",
                            "<tr><td>3780352</td><td>175234849008</td><td>5398</td></tr>",
                            "<tr><td>3945168</td><td>249331929857</td><td>1092</td></tr>",
                            "<tr><td>4207921</td><td>186026764980</td><td>4100</td></tr>",
                            "<tr><td>3857269</td><td>118808370130</td><td>6050</td></tr>",
                            "<tr><td>4232788</td><td>123024767543</td><td>9261</td></tr>",
                            "<tr><td>3595761</td><td>238320092716</td><td>3856</td></tr>",
                            "<tr><td>4245422</td><td>163187648704</td><td>7115</td></tr>",
                            "<tr><td>3919389</td><td>237594696951</td><td>5223</td></tr>",
                            "<tr><td>3917225</td><td>216284471218</td><td>8235</td></tr>",
                            "<tr><td>4173229</td><td>193746177194</td><td>4327</td></tr>",
                            "<tr><td>4103338</td><td>174732721445</td><td>8519</td></tr>",
                            "<tr><td>4223595</td><td>108074649224</td><td>8240</td></tr>",
                            "<tr><td>4270830</td><td>183297638118</td><td>7719</td></tr>",
                            "<tr><td>3605332</td><td>220448039938</td><td>6310</td></tr>",
                            "<tr><td>4051125</td><td>199942140747</td><td>9361</td></tr>",
                            "<tr><td>4211103</td><td>119582914442</td><td>7162</td></tr>",
                            "<tr><td>4231735</td><td>154142241794</td><td>3747</td></tr>",
                            "<tr><td>4161908</td><td>113265673968</td><td>7133</td></tr>",
                            "<tr><td>4036322</td><td>117538452673</td><td>3693</td></tr>",
                            "<tr><td>4170758</td><td>118229569665</td><td>4926</td></tr>",
                            "<tr><td>4208638</td><td>177037995499</td><td>6496</td></tr>",
                            "<tr><td>4189637</td><td>196608221417</td><td>1999</td></tr>",
                            "<tr><td>4203916</td><td>158761932044</td><td>8813</td></tr>",
                            "<tr><td>4249639</td><td>144011463749</td><td>2976</td></tr>",
                            "<tr><td>4060544</td><td>227353075568</td><td>3478</td></tr>",
                            "<tr><td>4246089</td><td>233691969014</td><td>6324</td></tr>",
                            "<tr><td>4287972</td><td>102941604341</td><td>9780</td></tr>",
                            "<tr><td>4200269</td><td>234754175222</td><td>9245</td></tr>",
                            "<tr><td>4275760</td><td>180342564128</td><td>1409</td></tr>",
                            "<tr><td>4169366</td><td>140974810788</td><td>8860</td></tr>",
                            "<tr><td>4264863</td><td>113017050089</td><td>7263</td></tr>",
                            "<tr><td>4284271</td><td>107780115565</td><td>3852</td></tr>",
                            "<tr><td>4196347</td><td>206514101468</td><td>9889</td></tr>",
                            "<tr><td>3543979</td><td>170576499184</td><td>6155</td></tr>",
                            "<tr><td>4188190</td><td>207963067908</td><td>2731</td></tr>",
                            "<tr><td>4247721</td><td>167226161871</td><td>8806</td></tr>",
                            "<tr><td>4201832</td><td>198555648825</td><td>6458</td></tr>",
                            "<tr><td>4196837</td><td>166020512099</td><td>1617</td></tr>",
                            "<tr><td>4178049</td><td>142535697152</td><td>1499</td></tr>",
                            "<tr><td>4188592</td><td>196614338740</td><td>6128</td></tr>",
                            "<tr><td>4198009</td><td>168036533092</td><td>3551</td></tr>",
                            "<tr><td>4280589</td><td>227407725089</td><td>2685</td></tr>",
                            "<tr><td>4242045</td><td>134574519691</td><td>9705</td></tr>",
                            "<tr><td>2769559</td><td>140139730274</td><td>3263</td></tr>",
                            "<tr><td>4251447</td><td>183558086837</td><td>2879</td></tr>",
                            "<tr><td>4097111</td><td>205383640024</td><td>9401</td></tr>",
                            "<tr><td>4203875</td><td>148283413484</td><td>1078</td></tr>",
                            "<tr><td>2719030</td><td>240715120191</td><td>6533</td></tr>",
                            "<tr><td>4232205</td><td>120380643658</td><td>3844</td></tr>",
                            "<tr><td>4256946</td><td>236696525571</td><td>4128</td></tr>",
                            "<tr><td>4244497</td><td>119935081930</td><td>5736</td></tr>",
                            "<tr><td>4218564</td><td>114353751619</td><td>2584</td></tr>",
                            "<tr><td>3962454</td><td>106991701856</td><td>9338</td></tr>",
                            "<tr><td>4266651</td><td>155144413108</td><td>4499</td></tr>",
                            "<tr><td>3501800</td><td>116470852500</td><td>8449</td></tr>",
                            "<tr><td>4258673</td><td>228088106191</td><td>2429</td></tr>",
                            "<tr><td>4133137</td><td>125444447593</td><td>6191</td></tr>",
                            "<tr><td>4209254</td><td>234726042481</td><td>6839</td></tr>",
                            "</table>"
                        ]
                    }
                }
            ],
            "execution_count": 14
        }
    ]
}